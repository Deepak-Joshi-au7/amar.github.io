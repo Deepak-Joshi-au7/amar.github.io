{
 "cells": [
  {
   "cell_type": "markdown",
   "metadata": {},
   "source": [
    "# Intro to Python Data Structures\n",
    "Strings, Lists, Tuples, Sets, Dicts  \n",
    "\n",
    "\n",
    "## Sequences: String, List, Tuple\n"
   ]
  },
  {
   "cell_type": "code",
   "execution_count": 1,
   "metadata": {},
   "outputs": [
    {
     "name": "stdout",
     "output_type": "stream",
     "text": [
      "g\n",
      "cow\n",
      "Kevin\n"
     ]
    }
   ],
   "source": [
    "# string\n",
    "x = 'frog'\n",
    "print (x[3])\n",
    "\n",
    "# list\n",
    "x = ['pig', 'cow', 'horse']\n",
    "print (x[1])\n",
    "\n",
    "# tuple\n",
    "x = ('Kevin', 'Niklas', 'Jenny', 'Craig')\n",
    "print(x[0])"
   ]
  },
  {
   "cell_type": "markdown",
   "metadata": {},
   "source": [
    "**slicing** - slice out substrings, sublists, subtuples using indexes.  \n",
    "[start : end+1 : step]"
   ]
  },
  {
   "cell_type": "code",
   "execution_count": 2,
   "metadata": {},
   "outputs": [
    {
     "name": "stdout",
     "output_type": "stream",
     "text": [
      "omp\n",
      "opt\n",
      "puter\n",
      "compu\n",
      "r\n",
      "ter\n",
      "comput\n"
     ]
    }
   ],
   "source": [
    "x = 'computer'\n",
    "print(x[1:4])\n",
    "print(x[1:6:2])\n",
    "print(x[3:])\n",
    "print(x[:5])\n",
    "print(x[-1])\n",
    "print(x[-3:])\n",
    "print(x[:-2])"
   ]
  },
  {
   "cell_type": "markdown",
   "metadata": {},
   "source": [
    "**adding / concatenating** - combine 2 sequences of the same type by using +"
   ]
  },
  {
   "cell_type": "code",
   "execution_count": 3,
   "metadata": {},
   "outputs": [
    {
     "name": "stdout",
     "output_type": "stream",
     "text": [
      "horseshoe\n",
      "['pig', 'cow', 'horse']\n",
      "('Kevin', 'Niklas', 'Jenny', 'Craig')\n"
     ]
    }
   ],
   "source": [
    "# string\n",
    "x = 'horse' + 'shoe'\n",
    "print(x)\n",
    "\n",
    "# list\n",
    "y = ['pig', 'cow'] + ['horse']\n",
    "print(y)\n",
    "\n",
    "# tuple\n",
    "z = ('Kevin', 'Niklas', 'Jenny') + ('Craig',)\n",
    "print(z)"
   ]
  },
  {
   "cell_type": "markdown",
   "metadata": {},
   "source": [
    "**multiplying** - multiply a sequence using *"
   ]
  },
  {
   "cell_type": "code",
   "execution_count": 4,
   "metadata": {},
   "outputs": [
    {
     "name": "stdout",
     "output_type": "stream",
     "text": [
      "bugbugbug\n",
      "[8, 5, 8, 5, 8, 5]\n",
      "(2, 4, 2, 4, 2, 4)\n"
     ]
    }
   ],
   "source": [
    "# string\n",
    "x = 'bug' * 3\n",
    "print(x)\n",
    "\n",
    "# list\n",
    "y = [8, 5] * 3\n",
    "print(y)\n",
    "\n",
    "# tuple\n",
    "z = (2, 4) * 3\n",
    "print(z)"
   ]
  },
  {
   "cell_type": "markdown",
   "metadata": {},
   "source": [
    "**checking membership** - test whether an item is or is not in a sequence."
   ]
  },
  {
   "cell_type": "code",
   "execution_count": 5,
   "metadata": {},
   "outputs": [
    {
     "name": "stdout",
     "output_type": "stream",
     "text": [
      "True\n",
      "False\n",
      "True\n"
     ]
    }
   ],
   "source": [
    "# string\n",
    "x = 'bug'\n",
    "print('u' in x)\n",
    "\n",
    "# list\n",
    "y = ['pig', 'cow', 'horse']\n",
    "print('cow' not in y)\n",
    "\n",
    "# tuple\n",
    "z = ('Kevin', 'Niklas', 'Jenny', 'Craig')\n",
    "print('Niklas' in z)"
   ]
  },
  {
   "cell_type": "markdown",
   "metadata": {},
   "source": [
    "**iterating** - iterating through the items in a sequence"
   ]
  },
  {
   "cell_type": "code",
   "execution_count": 6,
   "metadata": {},
   "outputs": [
    {
     "name": "stdout",
     "output_type": "stream",
     "text": [
      "7\n",
      "8\n",
      "3\n",
      "0 7\n",
      "1 8\n",
      "2 3\n"
     ]
    }
   ],
   "source": [
    "# item\n",
    "x = [7, 8, 3]\n",
    "for item in x:\n",
    "    print(item)\n",
    "    \n",
    "# index & item\n",
    "y = [7, 8, 3]\n",
    "for index, item in enumerate(y):\n",
    "    print(index, item)"
   ]
  },
  {
   "cell_type": "markdown",
   "metadata": {},
   "source": [
    "**number of items** - count the number of items in a sequence"
   ]
  },
  {
   "cell_type": "code",
   "execution_count": 7,
   "metadata": {},
   "outputs": [
    {
     "name": "stdout",
     "output_type": "stream",
     "text": [
      "3\n",
      "3\n",
      "4\n"
     ]
    }
   ],
   "source": [
    "# string\n",
    "x = 'bug'\n",
    "print(len(x))\n",
    "\n",
    "# list\n",
    "y = ['pig', 'cow', 'horse']\n",
    "print(len(y))\n",
    "\n",
    "# tuple\n",
    "z = ('Kevin', 'Niklas', 'Jenny', 'Craig')\n",
    "print(len(z))"
   ]
  },
  {
   "cell_type": "markdown",
   "metadata": {},
   "source": [
    "**minimum** - find the minimum item in a sequence lexicographically.  \n",
    "Alpha or numeric types, but cannot mix types."
   ]
  },
  {
   "cell_type": "code",
   "execution_count": 8,
   "metadata": {},
   "outputs": [
    {
     "name": "stdout",
     "output_type": "stream",
     "text": [
      "b\n",
      "cow\n",
      "Craig\n"
     ]
    }
   ],
   "source": [
    "# string\n",
    "x = 'bug'\n",
    "print(min(x))\n",
    "\n",
    "# list\n",
    "y = ['pig', 'cow', 'horse']\n",
    "print(min(y))\n",
    "\n",
    "# tuple\n",
    "z = ('Kevin', 'Niklas', 'Jenny', 'Craig')\n",
    "print(min(z))"
   ]
  },
  {
   "cell_type": "markdown",
   "metadata": {},
   "source": [
    "**maximum** - find the maximum item in a sequence lexicographically.  \n",
    "Alpha or numeric types, but cannot mix types."
   ]
  },
  {
   "cell_type": "code",
   "execution_count": 9,
   "metadata": {},
   "outputs": [
    {
     "name": "stdout",
     "output_type": "stream",
     "text": [
      "u\n",
      "pig\n",
      "Niklas\n"
     ]
    }
   ],
   "source": [
    "# string\n",
    "x = 'bug'\n",
    "print(max(x))\n",
    "\n",
    "# list\n",
    "y = ['pig', 'cow', 'horse']\n",
    "print(max(y))\n",
    "\n",
    "# tuple\n",
    "z = ('Kevin', 'Niklas', 'Jenny', 'Craig')\n",
    "print(max(z))"
   ]
  },
  {
   "cell_type": "markdown",
   "metadata": {},
   "source": [
    "**sum** - find the sum of items in a sequence.  \n",
    "Entire sequence must be numeric."
   ]
  },
  {
   "cell_type": "code",
   "execution_count": 10,
   "metadata": {},
   "outputs": [
    {
     "name": "stdout",
     "output_type": "stream",
     "text": [
      "27\n",
      "20\n",
      "80\n"
     ]
    }
   ],
   "source": [
    "# string -> error\n",
    "# x = [5, 7, 'bug']\n",
    "# print(sum(x))    # generates an error\n",
    "\n",
    "# list\n",
    "y = [2, 5, 8, 12]\n",
    "print(sum(y))\n",
    "print(sum(y[-2:]))\n",
    "\n",
    "# tuple\n",
    "z = (50, 4, 7, 19)\n",
    "print(sum(z))"
   ]
  },
  {
   "cell_type": "markdown",
   "metadata": {},
   "source": [
    "**sorting** - returns a new list of items in sorted order.  \n",
    "Does not change the original list."
   ]
  },
  {
   "cell_type": "code",
   "execution_count": 11,
   "metadata": {},
   "outputs": [
    {
     "name": "stdout",
     "output_type": "stream",
     "text": [
      "['b', 'g', 'u']\n",
      "['cow', 'horse', 'pig']\n",
      "['Craig', 'Jenny', 'Kevin', 'Niklas']\n"
     ]
    }
   ],
   "source": [
    "# string\n",
    "x = 'bug'\n",
    "print(sorted(x))\n",
    "\n",
    "# list\n",
    "y = ['pig', 'cow', 'horse']\n",
    "print(sorted(y))\n",
    "\n",
    "# tuple\n",
    "z = ('Kevin', 'Niklas', 'Jenny', 'Craig')\n",
    "print(sorted(z))"
   ]
  },
  {
   "cell_type": "markdown",
   "metadata": {},
   "source": [
    "**sorting** - sort by second letter  \n",
    "Add a key parameter and a lambda function to return the second character.  \n",
    "(the word *key* here is a defined parameter name, *k* is an arbitrary variable name)."
   ]
  },
  {
   "cell_type": "code",
   "execution_count": 12,
   "metadata": {},
   "outputs": [
    {
     "name": "stdout",
     "output_type": "stream",
     "text": [
      "['Kevin', 'Jenny', 'Niklas', 'Craig']\n"
     ]
    }
   ],
   "source": [
    "z = ('Kevin', 'Niklas', 'Jenny', 'Craig')\n",
    "print(sorted(z, key=lambda k: k[1]))"
   ]
  },
  {
   "cell_type": "markdown",
   "metadata": {},
   "source": [
    "**count(item)** - returns count of an item"
   ]
  },
  {
   "cell_type": "code",
   "execution_count": 13,
   "metadata": {},
   "outputs": [
    {
     "name": "stdout",
     "output_type": "stream",
     "text": [
      "2\n",
      "2\n",
      "1\n"
     ]
    }
   ],
   "source": [
    "# string\n",
    "x = 'hippo'\n",
    "print(x.count('p'))\n",
    "\n",
    "# list\n",
    "y = ['pig', 'cow', 'horse', 'cow']\n",
    "print(y.count('cow'))\n",
    "\n",
    "# tuple\n",
    "z = ('Kevin', 'Niklas', 'Jenny', 'Craig')\n",
    "print(z.count('Kevin'))"
   ]
  },
  {
   "cell_type": "markdown",
   "metadata": {},
   "source": [
    "**index(item)** - returns the index of the first occurence of an item."
   ]
  },
  {
   "cell_type": "code",
   "execution_count": 14,
   "metadata": {},
   "outputs": [
    {
     "name": "stdout",
     "output_type": "stream",
     "text": [
      "2\n",
      "1\n",
      "2\n"
     ]
    }
   ],
   "source": [
    "# string\n",
    "x = 'hippo'\n",
    "print(x.index('p'))\n",
    "\n",
    "# list\n",
    "y = ['pig', 'cow', 'horse', 'cow']\n",
    "print(y.index('cow'))\n",
    "\n",
    "# tuple\n",
    "z = ('Kevin', 'Niklas', 'Jenny', 'Craig')\n",
    "print(z.index('Jenny'))"
   ]
  },
  {
   "cell_type": "markdown",
   "metadata": {},
   "source": [
    "**unpacking** - unpack the n items of a sequence into n variables"
   ]
  },
  {
   "cell_type": "code",
   "execution_count": 15,
   "metadata": {},
   "outputs": [
    {
     "name": "stdout",
     "output_type": "stream",
     "text": [
      "pig cow horse\n"
     ]
    }
   ],
   "source": [
    "x = ['pig', 'cow', 'horse']\n",
    "a, b, c = x\n",
    "print(a, b, c)"
   ]
  },
  {
   "cell_type": "markdown",
   "metadata": {},
   "source": [
    "## Lists  \n",
    "****\n",
    "- General purpose\n",
    "- Most widely used data structure \n",
    "- Grow and shrink size as needed\n",
    "- Sequence type\n",
    "- Sortable  \n",
    "\n",
    "**constructors** - creating a new list"
   ]
  },
  {
   "cell_type": "code",
   "execution_count": 16,
   "metadata": {},
   "outputs": [
    {
     "name": "stdout",
     "output_type": "stream",
     "text": [
      "[0, 1, 2, 3, 4, 5, 6, 7]\n",
      "[25, 36, 49, 64, 81]\n"
     ]
    }
   ],
   "source": [
    "x = list()\n",
    "y = ['a', 25, 'dog', 8.43]\n",
    "tuple1 = (10, 20)\n",
    "z = list(tuple1)\n",
    "\n",
    "# list comprehension\n",
    "a = [m for m in range(8)]\n",
    "print(a)\n",
    "b = [i**2 for i in range(10) if i>4]\n",
    "print(b)"
   ]
  },
  {
   "cell_type": "markdown",
   "metadata": {},
   "source": [
    "**delete** - delete a list or an item in a list"
   ]
  },
  {
   "cell_type": "code",
   "execution_count": 17,
   "metadata": {},
   "outputs": [
    {
     "name": "stdout",
     "output_type": "stream",
     "text": [
      "[5, 8, 6]\n"
     ]
    }
   ],
   "source": [
    "x = [5, 3, 8, 6]\n",
    "del(x[1])\n",
    "print(x)\n",
    "del(x)    # list x no longer exists"
   ]
  },
  {
   "cell_type": "markdown",
   "metadata": {},
   "source": [
    "**append** - append an item to a list"
   ]
  },
  {
   "cell_type": "code",
   "execution_count": 18,
   "metadata": {},
   "outputs": [
    {
     "name": "stdout",
     "output_type": "stream",
     "text": [
      "[5, 3, 8, 6, 7]\n"
     ]
    }
   ],
   "source": [
    "x = [5, 3, 8, 6]\n",
    "x.append(7)\n",
    "print(x)"
   ]
  },
  {
   "cell_type": "markdown",
   "metadata": {},
   "source": [
    "**extend** - append a sequence to a list"
   ]
  },
  {
   "cell_type": "code",
   "execution_count": 19,
   "metadata": {},
   "outputs": [
    {
     "name": "stdout",
     "output_type": "stream",
     "text": [
      "[5, 3, 8, 6, 12, 13]\n"
     ]
    }
   ],
   "source": [
    "x = [5, 3, 8, 6]\n",
    "y = [12, 13]\n",
    "x.extend(y)\n",
    "print(x)"
   ]
  },
  {
   "cell_type": "markdown",
   "metadata": {},
   "source": [
    "**insert** - insert an item at a given index"
   ]
  },
  {
   "cell_type": "code",
   "execution_count": 20,
   "metadata": {},
   "outputs": [
    {
     "name": "stdout",
     "output_type": "stream",
     "text": [
      "[5, 7, 3, 8, 6]\n",
      "[5, ['a', 'm'], 7, 3, 8, 6]\n"
     ]
    }
   ],
   "source": [
    "x = [5, 3, 8, 6]\n",
    "x.insert(1, 7)\n",
    "print(x)\n",
    "x.insert(1, ['a', 'm'])\n",
    "print(x)"
   ]
  },
  {
   "cell_type": "markdown",
   "metadata": {},
   "source": [
    "**pop** - pops last item off list and returns item"
   ]
  },
  {
   "cell_type": "code",
   "execution_count": 21,
   "metadata": {},
   "outputs": [
    {
     "name": "stdout",
     "output_type": "stream",
     "text": [
      "[5, 3, 8]\n",
      "8\n"
     ]
    }
   ],
   "source": [
    "x = [5, 3, 8, 6]\n",
    "x.pop()    # pop off the 6\n",
    "print(x)\n",
    "print(x.pop())"
   ]
  },
  {
   "cell_type": "markdown",
   "metadata": {},
   "source": [
    "**remove** - remove first instance of an item"
   ]
  },
  {
   "cell_type": "code",
   "execution_count": 22,
   "metadata": {},
   "outputs": [
    {
     "name": "stdout",
     "output_type": "stream",
     "text": [
      "[5, 8, 6, 3]\n"
     ]
    }
   ],
   "source": [
    "x = [5, 3, 8, 6, 3]\n",
    "x.remove(3)\n",
    "print(x)"
   ]
  },
  {
   "cell_type": "markdown",
   "metadata": {},
   "source": [
    "**reverse** - reverse the order of the list. It is an in-place sort, meaning it changes the original list."
   ]
  },
  {
   "cell_type": "code",
   "execution_count": 23,
   "metadata": {},
   "outputs": [
    {
     "name": "stdout",
     "output_type": "stream",
     "text": [
      "[6, 8, 3, 5]\n"
     ]
    }
   ],
   "source": [
    "x = [5, 3, 8, 6]\n",
    "x.reverse()\n",
    "print(x)"
   ]
  },
  {
   "cell_type": "markdown",
   "metadata": {},
   "source": [
    "**sort** - sort the list in place.  \n",
    "Note:  \n",
    "sorted(x) returns a new sorted list without changing the original list x.  \n",
    "x.sort() puts the items of x in sorted order (sorts in place)."
   ]
  },
  {
   "cell_type": "code",
   "execution_count": 24,
   "metadata": {},
   "outputs": [
    {
     "name": "stdout",
     "output_type": "stream",
     "text": [
      "[3, 5, 6, 8]\n"
     ]
    }
   ],
   "source": [
    "x = [5, 3, 8, 6]\n",
    "x.sort()\n",
    "print(x)"
   ]
  },
  {
   "cell_type": "markdown",
   "metadata": {},
   "source": [
    "**reverse sort** - sort items descending.  \n",
    "Use *reverse=True* parameter to the sort function."
   ]
  },
  {
   "cell_type": "code",
   "execution_count": 25,
   "metadata": {},
   "outputs": [
    {
     "name": "stdout",
     "output_type": "stream",
     "text": [
      "[8, 6, 5, 3]\n"
     ]
    }
   ],
   "source": [
    "x = [5, 3, 8, 6]\n",
    "x.sort(reverse=True)\n",
    "print(x)"
   ]
  },
  {
   "cell_type": "markdown",
   "metadata": {},
   "source": [
    "## Tuples\n",
    "****\n",
    "- Immutable (can’t add/change)\n",
    "- Useful for fixed data\n",
    "- Faster than Lists\n",
    "- Sequence type  \n",
    "  \n",
    "**constructors** - creating new tuples."
   ]
  },
  {
   "cell_type": "code",
   "execution_count": 26,
   "metadata": {},
   "outputs": [
    {
     "name": "stdout",
     "output_type": "stream",
     "text": [
      "(2,) <class 'tuple'>\n",
      "(2, 4, 6) <class 'tuple'>\n"
     ]
    }
   ],
   "source": [
    "x = ()\n",
    "x = (1, 2, 3)\n",
    "x = 1, 2, 3\n",
    "x = 2,    # the comma tells Python it's a tuple\n",
    "print(x, type(x))\n",
    "\n",
    "list1 = [2, 4, 6]\n",
    "x = tuple(list1)\n",
    "print(x, type(x))"
   ]
  },
  {
   "cell_type": "markdown",
   "metadata": {},
   "source": [
    "**tuples are immutable**, but member objects may be mutable."
   ]
  },
  {
   "cell_type": "code",
   "execution_count": 27,
   "metadata": {},
   "outputs": [
    {
     "name": "stdout",
     "output_type": "stream",
     "text": [
      "(1, 2, 3)\n",
      "([1], 3)\n",
      "([1], 3, 4)\n"
     ]
    }
   ],
   "source": [
    "x = (1, 2, 3)\n",
    "# del(x[1])       # fails\n",
    "# x[1] = 8        # fails\n",
    "print(x)\n",
    "\n",
    "y = ([1, 2], 3)   # a tuple where the first item is a list\n",
    "del(y[0][1])      # delete the 2\n",
    "print(y)          # the list within the tuple is mutable\n",
    "\n",
    "y += (4,)         # concatenating two tuples works\n",
    "print(y)"
   ]
  },
  {
   "cell_type": "markdown",
   "metadata": {},
   "source": [
    "## Sets\n",
    "****\n",
    "- Store non-duplicate items  \n",
    "- Very fast access vs Lists  \n",
    "- Math Set ops (union, intersect)  \n",
    "- Sets are Unordered  \n",
    "  \n",
    "**constructors** - creating new sets"
   ]
  },
  {
   "cell_type": "code",
   "execution_count": 28,
   "metadata": {},
   "outputs": [
    {
     "name": "stdout",
     "output_type": "stream",
     "text": [
      "{3, 5}\n",
      "set()\n",
      "{2, 3, 4}\n"
     ]
    }
   ],
   "source": [
    "x = {3, 5, 3, 5}\n",
    "print(x)\n",
    "\n",
    "y = set()\n",
    "print(y)\n",
    "\n",
    "list1 = [2, 3, 4]\n",
    "z = set(list1)\n",
    "print(z)"
   ]
  },
  {
   "cell_type": "markdown",
   "metadata": {},
   "source": [
    "**set operations**"
   ]
  },
  {
   "cell_type": "code",
   "execution_count": 29,
   "metadata": {},
   "outputs": [
    {
     "name": "stdout",
     "output_type": "stream",
     "text": [
      "{8, 3, 5}\n",
      "{8, 3, 5, 7}\n",
      "{8, 5, 7}\n",
      "3\n",
      "True\n",
      "8 {5, 7}\n",
      "set()\n"
     ]
    }
   ],
   "source": [
    "x = {3, 8, 5}\n",
    "print(x)\n",
    "x.add(7)\n",
    "print(x)\n",
    "\n",
    "x.remove(3)\n",
    "print(x)\n",
    "\n",
    "# get length of set x\n",
    "print(len(x))\n",
    "\n",
    "# check membership in x\n",
    "print(5 in x)\n",
    "\n",
    "# pop random item from set x\n",
    "print(x.pop(), x)\n",
    "\n",
    "# delete all items from set x\n",
    "x.clear()\n",
    "print(x)"
   ]
  },
  {
   "cell_type": "markdown",
   "metadata": {},
   "source": [
    "**Mathematical set operations**  \n",
    "intersection (AND): set1 & set2  \n",
    "union (OR): set1 | set2  \n",
    "symmetric difference (XOR): set1 ^ set2  \n",
    "difference (in set1 but not set2): set1 - set2  \n",
    "subset (set2 contains set1): set1 <= set2  \n",
    "superset (set1 contains set2): set1 >= set2"
   ]
  },
  {
   "cell_type": "code",
   "execution_count": 30,
   "metadata": {},
   "outputs": [
    {
     "name": "stdout",
     "output_type": "stream",
     "text": [
      "{3}\n",
      "{1, 2, 3, 4, 5}\n",
      "{1, 2, 4, 5}\n",
      "{1, 2}\n",
      "False\n",
      "False\n"
     ]
    }
   ],
   "source": [
    "s1 = {1, 2, 3}\n",
    "s2 = {3, 4, 5}\n",
    "print(s1 & s2)\n",
    "print(s1 | s2)\n",
    "print(s1 ^ s2)\n",
    "print(s1 - s2)\n",
    "print(s1 <= s2)\n",
    "print(s1 >= s2)"
   ]
  },
  {
   "cell_type": "markdown",
   "metadata": {},
   "source": [
    "## Dictionaries (dict)\n",
    "****\n",
    "- Key/Value pairs\n",
    "- Associative array, like Java HashMap\n",
    "- Dicts are Unordered  \n",
    "\n",
    "**constructors** - creating new dictionaries"
   ]
  },
  {
   "cell_type": "code",
   "execution_count": 31,
   "metadata": {},
   "outputs": [
    {
     "name": "stdout",
     "output_type": "stream",
     "text": [
      "{'pork': 25.3, 'beef': 33.8, 'chicken': 22.7}\n",
      "{'pork': 25.3, 'beef': 33.8, 'chicken': 22.7}\n",
      "{'pork': 25.3, 'beef': 33.8, 'chicken': 22.7}\n"
     ]
    }
   ],
   "source": [
    "x = {'pork':25.3, 'beef':33.8, 'chicken':22.7}\n",
    "print(x)\n",
    "x = dict([('pork', 25.3),('beef', 33.8),('chicken', 22.7)])\n",
    "print(x)\n",
    "x = dict(pork=25.3, beef=33.8, chicken=22.7)\n",
    "print(x)"
   ]
  },
  {
   "cell_type": "markdown",
   "metadata": {},
   "source": [
    "**dict operations**"
   ]
  },
  {
   "cell_type": "code",
   "execution_count": 32,
   "metadata": {},
   "outputs": [
    {
     "name": "stdout",
     "output_type": "stream",
     "text": [
      "{'pork': 25.3, 'beef': 33.8, 'chicken': 22.7, 'shrimp': 38.2}\n",
      "{'pork': 25.3, 'beef': 33.8, 'chicken': 22.7}\n",
      "3\n",
      "{}\n"
     ]
    }
   ],
   "source": [
    "x['shrimp'] = 38.2    # add or update\n",
    "print(x)\n",
    "\n",
    "# delete an item\n",
    "del(x['shrimp'])\n",
    "print(x)\n",
    "\n",
    "# get length of dict x\n",
    "print(len(x))\n",
    "\n",
    "# delete all items from dict x\n",
    "x.clear()\n",
    "print(x)\n",
    "\n",
    "# delete dict x\n",
    "del(x)"
   ]
  },
  {
   "cell_type": "markdown",
   "metadata": {},
   "source": [
    "**accessing keys and values in a dict**  \n",
    "Not compatible with Python 2."
   ]
  },
  {
   "cell_type": "code",
   "execution_count": 33,
   "metadata": {},
   "outputs": [
    {
     "name": "stdout",
     "output_type": "stream",
     "text": [
      "dict_keys(['pork', 'beef', 'chicken'])\n",
      "dict_values([25.3, 33.8, 22.7])\n",
      "dict_items([('pork', 25.3), ('beef', 33.8), ('chicken', 22.7)])\n",
      "True\n",
      "False\n"
     ]
    }
   ],
   "source": [
    "y = {'pork':25.3, 'beef':33.8, 'chicken':22.7}\n",
    "print(y.keys())\n",
    "print(y.values())\n",
    "print(y.items())      # key-value pairs\n",
    "\n",
    "# check membership in y_keys (only looks in keys, not values)\n",
    "print('beef' in y)\n",
    "\n",
    "# check membership in y_values\n",
    "print('clams' in y.values())"
   ]
  },
  {
   "cell_type": "markdown",
   "metadata": {},
   "source": [
    "**iterating a dict** - note, items are in random order."
   ]
  },
  {
   "cell_type": "code",
   "execution_count": 34,
   "metadata": {},
   "outputs": [
    {
     "name": "stdout",
     "output_type": "stream",
     "text": [
      "pork 25.3\n",
      "beef 33.8\n",
      "chicken 22.7\n",
      "pork 25.3\n",
      "beef 33.8\n",
      "chicken 22.7\n"
     ]
    }
   ],
   "source": [
    "for key in y:\n",
    "    print(key, y[key])\n",
    "    \n",
    "for k, v in y.items():\n",
    "    print(k, v)"
   ]
  },
  {
   "cell_type": "markdown",
   "metadata": {},
   "source": [
    "\n",
    "\n",
    "\n",
    "\n",
    "\n",
    "# Python List Comprehensions\n",
    "basic format: new_list = [transform sequence [filter] ]  \n",
    "© Joe James, 2019."
   ]
  },
  {
   "cell_type": "code",
   "execution_count": 1,
   "metadata": {},
   "outputs": [],
   "source": [
    "import random"
   ]
  },
  {
   "cell_type": "markdown",
   "metadata": {},
   "source": [
    "**get values within a range**"
   ]
  },
  {
   "cell_type": "code",
   "execution_count": 2,
   "metadata": {},
   "outputs": [
    {
     "name": "stdout",
     "output_type": "stream",
     "text": [
      "under_10: [0, 1, 2, 3, 4, 5, 6, 7, 8, 9]\n"
     ]
    }
   ],
   "source": [
    "under_10 = [x for x in range(10)]\n",
    "print('under_10: ' + str(under_10))"
   ]
  },
  {
   "cell_type": "markdown",
   "metadata": {},
   "source": [
    "**get squared values**"
   ]
  },
  {
   "cell_type": "code",
   "execution_count": 3,
   "metadata": {},
   "outputs": [
    {
     "name": "stdout",
     "output_type": "stream",
     "text": [
      "squares: [0, 1, 4, 9, 16, 25, 36, 49, 64, 81]\n"
     ]
    }
   ],
   "source": [
    "squares = [x**2 for x in under_10]\n",
    "print('squares: ' + str(squares))"
   ]
  },
  {
   "cell_type": "markdown",
   "metadata": {},
   "source": [
    "**get odd numbers using mod**"
   ]
  },
  {
   "cell_type": "code",
   "execution_count": 4,
   "metadata": {},
   "outputs": [
    {
     "name": "stdout",
     "output_type": "stream",
     "text": [
      "odds: [1, 3, 5, 7, 9]\n"
     ]
    }
   ],
   "source": [
    "odds =  [x for x in range(10) if x%2 == 1]\n",
    "print('odds: ' + str(odds))"
   ]
  },
  {
   "cell_type": "markdown",
   "metadata": {},
   "source": [
    "**get multiples of 10**"
   ]
  },
  {
   "cell_type": "code",
   "execution_count": 5,
   "metadata": {},
   "outputs": [
    {
     "name": "stdout",
     "output_type": "stream",
     "text": [
      "ten_x: [0, 10, 20, 30, 40, 50, 60, 70, 80, 90]\n"
     ]
    }
   ],
   "source": [
    "ten_x = [x * 10 for x in range(10)]\n",
    "print('ten_x: ' + str(ten_x))"
   ]
  },
  {
   "cell_type": "markdown",
   "metadata": {},
   "source": [
    "**get all numbers from a string**"
   ]
  },
  {
   "cell_type": "code",
   "execution_count": 6,
   "metadata": {},
   "outputs": [
    {
     "name": "stdout",
     "output_type": "stream",
     "text": [
      "nums: 2073\n"
     ]
    }
   ],
   "source": [
    "s = 'I love 2 go t0 the store 7 times a w3ek.'\n",
    "nums = [x for x in s if x.isnumeric()]\n",
    "print('nums: ' + ''.join(nums))"
   ]
  },
  {
   "cell_type": "markdown",
   "metadata": {},
   "source": [
    "**get index of a list item**"
   ]
  },
  {
   "cell_type": "code",
   "execution_count": 7,
   "metadata": {},
   "outputs": [
    {
     "name": "stdout",
     "output_type": "stream",
     "text": [
      "index = 2\n"
     ]
    }
   ],
   "source": [
    "names = ['Cosmo', 'Pedro', 'Anu', 'Ray']\n",
    "idx = [k for k, v in enumerate(names) if v == 'Anu']\n",
    "print('index = ' + str(idx[0]))"
   ]
  },
  {
   "cell_type": "markdown",
   "metadata": {},
   "source": [
    "**delete an item from a list**"
   ]
  },
  {
   "cell_type": "code",
   "execution_count": 8,
   "metadata": {},
   "outputs": [
    {
     "name": "stdout",
     "output_type": "stream",
     "text": [
      "['D', 'F', 'E', 'A', 'B', 'C'] ['D', 'F', 'E', 'A', 'B']\n"
     ]
    }
   ],
   "source": [
    "letters = [x for x in 'ABCDEF']\n",
    "random.shuffle(letters)\n",
    "letrs = [a for a in letters if a != 'C']\n",
    "print(letters, letrs)"
   ]
  },
  {
   "cell_type": "markdown",
   "metadata": {},
   "source": [
    "**if-else condition in a comprehension**  \n",
    "must come before iteration."
   ]
  },
  {
   "cell_type": "code",
   "execution_count": 9,
   "metadata": {},
   "outputs": [
    {
     "name": "stdout",
     "output_type": "stream",
     "text": [
      "new list: [50, 30, 10, 18, 6, 70]\n"
     ]
    }
   ],
   "source": [
    "nums = [5, 3, 10, 18, 6, 7]\n",
    "new_list = [x if x%2 == 0 else 10*x for x in nums]\n",
    "print('new list: ' + str(new_list))"
   ]
  },
  {
   "cell_type": "markdown",
   "metadata": {},
   "source": [
    "**nested loop iteration for 2D list**  \n",
    "b is the subsets, x is the values."
   ]
  },
  {
   "cell_type": "code",
   "execution_count": 10,
   "metadata": {},
   "outputs": [
    {
     "name": "stdout",
     "output_type": "stream",
     "text": [
      "[1, 2, 3, 4]\n"
     ]
    }
   ],
   "source": [
    "a = [[1,2],[3,4]]\n",
    "new_list = [x for b in a for x in b]\n",
    "print(new_list)"
   ]
  },
  {
   "cell_type": "markdown",
   "metadata": {},
   "source": [
    "## operators"
   ]
  },
  {
   "cell_type": "code",
   "execution_count": null,
   "metadata": {},
   "outputs": [],
   "source": [
    "\n",
    "### Compartision operators\n",
    "== equal to\n",
    "!= not equal to\n",
    "< less than\n",
    " > Greater than \n",
    " <= Less than or equal to\n",
    " >= Greater than or equal to\n",
    " = assigning values\n",
    "\n",
    "### Boolean Operator / Logical Operator\n",
    "\n",
    "#### the and operator\n",
    "num = 1\n",
    "str1 = 'boolean'\n",
    "if str1 == \"boolean\" and num ==1:\n",
    "    print(\"sucess\")\n",
    "    \n",
    "#### the or operator\n",
    "if str1== \"boolean\" or num ==1:\n",
    "    print(\"sucess\")\n",
    "    \n",
    "1 < x < 15 is equal 1 < x and X < 15\n",
    "\n",
    "#### the in operator\n",
    "x = 5\n",
    "nums=[1, 2, 3, 4, 5]\n",
    "    if n in nums:\n",
    "        print('found')\n",
    "    else:\n",
    "        print('not found')\n",
    "\n",
    "#### Type Functiom\n",
    "a = -8.9\n",
    "print(type(a))\n",
    "\n",
    "### Binary Boolean Oerator\n",
    "\n",
    "#### the and operators truth table\n",
    "True and False - False\n",
    "True and True - True\n",
    "False and True - False\n",
    "False and False - True\n",
    "\n",
    "#### the or operators truth table\n",
    "True or True - True\n",
    "True or False - True\n",
    "False or True - True\n",
    "False or False - False\n",
    "\n",
    "#### the not operators truth table\n",
    "not True - False\n",
    "not False - True\n",
    "\n",
    "#### Enumerate\n",
    "indexCount=0\n",
    "for Letter in \"abcde\":\n",
    "    print(Letter, end =\" \")\n",
    "    print(indexCount, end =\" \")\n",
    "    indexCount+=1"
   ]
  },
  {
   "cell_type": "markdown",
   "metadata": {},
   "source": [
    "####################################################\n",
    "## 3. Control Flow and Iterables\n",
    "####################################################"
   ]
  },
  {
   "cell_type": "markdown",
   "metadata": {},
   "source": [
    "### Flow Control"
   ]
  },
  {
   "cell_type": "code",
   "execution_count": null,
   "metadata": {},
   "outputs": [],
   "source": [
    "IF Statements\n",
    "if name == 'Alice':\n",
    "    print('hi, Alice')\n",
    "ELSE Statements\n",
    "if name == 'Alice':\n",
    "    print('hi, Alice')\n",
    "else:\n",
    "    print('hi, Alice')\n",
    "ELIF Statements\n",
    "if name == ('alice'):\n",
    "    print('hi, alice')\n",
    "elif age<12:\n",
    "    print('you are not alice')"
   ]
  },
  {
   "cell_type": "markdown",
   "metadata": {},
   "source": [
    "### Loops"
   ]
  },
  {
   "cell_type": "code",
   "execution_count": 33,
   "metadata": {},
   "outputs": [
    {
     "name": "stdout",
     "output_type": "stream",
     "text": [
      "\n"
     ]
    }
   ],
   "source": [
    "While Loop\n",
    "while True:\n",
    "    print('print type your name')\n",
    "    name=input()\n",
    "    if name == 'your name':\n",
    "        break\n",
    "print('thank you')\n",
    "\n",
    "#For Loop\n",
    "print('my name is ')\n",
    "for i in range (5):\n",
    "    print('jummy five time(' + str(i) + ',')')\n",
    "    \n",
    "#Range()\n",
    "for i in range (0, 10, 2):\n",
    "    print(i)\n",
    "#so calling from (0, 10, 2) will count from zero to eight by intervals of two.\n",
    "\n",
    "# ending a prog early with sys.exit()\n",
    "while true\n",
    "    print('type your name')\n",
    "    response= input()\n",
    "    if response == \"exit\":\n",
    "        sys.exit()\n",
    "    print('you typed\"+response+\".\")\n"
   ]
  },
  {
   "cell_type": "markdown",
   "metadata": {},
   "source": [
    "####################################################\n",
    "## 4. Functions\n",
    "####################################################"
   ]
  },
  {
   "cell_type": "code",
   "execution_count": null,
   "metadata": {},
   "outputs": [],
   "source": [
    "# Use \"def\" to create new functions\n",
    "def add(x, y):\n",
    "    print(\"x is {} and y is {}\".format(x, y))\n",
    "    return x + y  # Return values with a return statement\n",
    "\n",
    "# Calling functions with parameters\n",
    "add(5, 6)  # => prints out \"x is 5 and y is 6\" and returns 11\n",
    "\n",
    "# Another way to call functions is with keyword arguments\n",
    "add(y=6, x=5)  # Keyword arguments can arrive in any order.\n",
    "\n",
    "# You can define functions that take a variable number of\n",
    "# positional arguments\n",
    "def varargs(*args):\n",
    "    return args\n",
    "\n",
    "varargs(1, 2, 3)  # => (1, 2, 3)\n",
    "\n",
    "# You can define functions that take a variable number of\n",
    "# keyword arguments, as well\n",
    "def keyword_args(**kwargs):\n",
    "    return kwargs\n",
    "\n",
    "# Let's call it to see what happens\n",
    "keyword_args(big=\"foot\", loch=\"ness\")  # => {\"big\": \"foot\", \"loch\": \"ness\"}\n",
    "\n",
    "\n",
    "# You can do both at once, if you like\n",
    "def all_the_args(*args, **kwargs):\n",
    "    print(args)\n",
    "    print(kwargs)\n",
    "\"\"\"\n",
    "all_the_args(1, 2, a=3, b=4) prints:\n",
    "    (1, 2)\n",
    "    {\"a\": 3, \"b\": 4}\n",
    "\"\"\"\n",
    "\n",
    "# When calling functions, you can do the opposite of args/kwargs!\n",
    "# Use * to expand tuples and use ** to expand kwargs.\n",
    "args = (1, 2, 3, 4)\n",
    "kwargs = {\"a\": 3, \"b\": 4}\n",
    "all_the_args(*args)            # equivalent to all_the_args(1, 2, 3, 4)\n",
    "all_the_args(**kwargs)         # equivalent to all_the_args(a=3, b=4)\n",
    "all_the_args(*args, **kwargs)  # equivalent to all_the_args(1, 2, 3, 4, a=3, b=4)\n",
    "\n",
    "# Returning multiple values (with tuple assignments)\n",
    "def swap(x, y):\n",
    "    return y, x  # Return multiple values as a tuple without the parenthesis.\n",
    "                 # (Note: parenthesis have been excluded but can be included)\n",
    "\n",
    "x = 1\n",
    "y = 2\n",
    "x, y = swap(x, y)     # => x = 2, y = 1\n",
    "# (x, y) = swap(x,y)  # Again parenthesis have been excluded but can be included.\n",
    "\n",
    "# Function Scope\n",
    "x = 5\n",
    "\n",
    "def set_x(num):\n",
    "    # Local var x not the same as global variable x\n",
    "    x = num    # => 43\n",
    "    print(x)   # => 43\n",
    "\n",
    "def set_global_x(num):\n",
    "    global x\n",
    "    print(x)   # => 5\n",
    "    x = num    # global var x is now set to 6\n",
    "    print(x)   # => 6\n",
    "\n",
    "set_x(43)\n",
    "set_global_x(6)\n",
    "\n",
    "\n",
    "# Python has first class functions\n",
    "def create_adder(x):\n",
    "    def adder(y):\n",
    "        return x + y\n",
    "    return adder\n",
    "\n",
    "add_10 = create_adder(10)\n",
    "add_10(3)   # => 13\n",
    "\n",
    "# There are also anonymous functions\n",
    "(lambda x: x > 2)(3)                  # => True\n",
    "(lambda x, y: x ** 2 + y ** 2)(2, 1)  # => 5\n",
    "\n",
    "# There are built-in higher order functions\n",
    "list(map(add_10, [1, 2, 3]))          # => [11, 12, 13]\n",
    "list(map(max, [1, 2, 3], [4, 2, 1]))  # => [4, 2, 3]\n",
    "\n",
    "list(filter(lambda x: x > 5, [3, 4, 5, 6, 7]))  # => [6, 7]\n",
    "\n",
    "# We can use list comprehensions for nice maps and filters\n",
    "# List comprehension stores the output as a list which can itself be a nested list\n",
    "[add_10(i) for i in [1, 2, 3]]         # => [11, 12, 13]\n",
    "[x for x in [3, 4, 5, 6, 7] if x > 5]  # => [6, 7]\n",
    "\n",
    "# You can construct set and dict comprehensions as well.\n",
    "{x for x in 'abcddeef' if x not in 'abc'}  # => {'d', 'e', 'f'}\n",
    "{x: x**2 for x in range(5)}  # => {0: 0, 1: 1, 2: 4, 3: 9, 4: 16}\n"
   ]
  },
  {
   "cell_type": "markdown",
   "metadata": {},
   "source": [
    "####################################################\n",
    "## 5. Modules\n",
    "####################################################"
   ]
  },
  {
   "cell_type": "code",
   "execution_count": null,
   "metadata": {},
   "outputs": [],
   "source": [
    "# You can import modules\n",
    "import math\n",
    "print(math.sqrt(16))  # => 4.0\n",
    "\n",
    "# You can get specific functions from a module\n",
    "from math import ceil, floor\n",
    "print(ceil(3.7))   # => 4.0\n",
    "print(floor(3.7))  # => 3.0\n",
    "\n",
    "# You can import all functions from a module.\n",
    "# Warning: this is not recommended\n",
    "from math import *\n",
    "\n",
    "# You can shorten module names\n",
    "import math as m\n",
    "math.sqrt(16) == m.sqrt(16)  # => True\n",
    "\n",
    "# Python modules are just ordinary Python files. You\n",
    "# can write your own, and import them. The name of the\n",
    "# module is the same as the name of the file.\n",
    "\n",
    "# You can find out which functions and attributes\n",
    "# are defined in a module.\n",
    "import math\n",
    "dir(math)\n",
    "\n",
    "# If you have a Python script named math.py in the same\n",
    "# folder as your current script, the file math.py will\n",
    "# be loaded instead of the built-in Python module.\n",
    "# This happens because the local folder has priority\n",
    "# over Python's built-in libraries."
   ]
  },
  {
   "cell_type": "markdown",
   "metadata": {},
   "source": [
    "####################################################\n",
    "## 6. Classes\n",
    "####################################################"
   ]
  },
  {
   "cell_type": "code",
   "execution_count": null,
   "metadata": {},
   "outputs": [],
   "source": [
    "# We use the \"class\" statement to create a class\n",
    "class Human:\n",
    "\n",
    "    # A class attribute. It is shared by all instances of this class\n",
    "    species = \"H. sapiens\"\n",
    "\n",
    "    # Basic initializer, this is called when this class is instantiated.\n",
    "    # Note that the double leading and trailing underscores denote objects\n",
    "    # or attributes that are used by Python but that live in user-controlled\n",
    "    # namespaces. Methods(or objects or attributes) like: __init__, __str__,\n",
    "    # __repr__ etc. are called special methods (or sometimes called dunder methods)\n",
    "    # You should not invent such names on your own.\n",
    "    def __init__(self, name):\n",
    "        # Assign the argument to the instance's name attribute\n",
    "        self.name = name\n",
    "\n",
    "        # Initialize property\n",
    "        self._age = 0\n",
    "\n",
    "    # An instance method. All methods take \"self\" as the first argument\n",
    "    def say(self, msg):\n",
    "        print(\"{name}: {message}\".format(name=self.name, message=msg))\n",
    "\n",
    "    # Another instance method\n",
    "    def sing(self):\n",
    "        return 'yo... yo... microphone check... one two... one two...'\n",
    "\n",
    "    # A class method is shared among all instances\n",
    "    # They are called with the calling class as the first argument\n",
    "    @classmethod\n",
    "    def get_species(cls):\n",
    "        return cls.species\n",
    "\n",
    "    # A static method is called without a class or instance reference\n",
    "    @staticmethod\n",
    "    def grunt():\n",
    "        return \"*grunt*\"\n",
    "\n",
    "    # A property is just like a getter.\n",
    "    # It turns the method age() into an read-only attribute of the same name.\n",
    "    # There's no need to write trivial getters and setters in Python, though.\n",
    "    @property\n",
    "    def age(self):\n",
    "        return self._age\n",
    "\n",
    "    # This allows the property to be set\n",
    "    @age.setter\n",
    "    def age(self, age):\n",
    "        self._age = age\n",
    "\n",
    "    # This allows the property to be deleted\n",
    "    @age.deleter\n",
    "    def age(self):\n",
    "        del self._age\n",
    "\n",
    "\n",
    "# When a Python interpreter reads a source file it executes all its code.\n",
    "# This __name__ check makes sure this code block is only executed when this\n",
    "# module is the main program.\n",
    "if __name__ == '__main__':\n",
    "    # Instantiate a class\n",
    "    i = Human(name=\"Ian\")\n",
    "    i.say(\"hi\")                     # \"Ian: hi\"\n",
    "    j = Human(\"Joel\")\n",
    "    j.say(\"hello\")                  # \"Joel: hello\"\n",
    "    # i and j are instances of type Human, or in other words: they are Human objects\n",
    "\n",
    "    # Call our class method\n",
    "    i.say(i.get_species())          # \"Ian: H. sapiens\"\n",
    "    # Change the shared attribute\n",
    "    Human.species = \"H. neanderthalensis\"\n",
    "    i.say(i.get_species())          # => \"Ian: H. neanderthalensis\"\n",
    "    j.say(j.get_species())          # => \"Joel: H. neanderthalensis\"\n",
    "\n",
    "    # Call the static method\n",
    "    print(Human.grunt())            # => \"*grunt*\"\n",
    "\n",
    "    # Cannot call static method with instance of object \n",
    "    # because i.grunt() will automatically put \"self\" (the object i) as an argument\n",
    "    print(i.grunt())                # => TypeError: grunt() takes 0 positional arguments but 1 was given\n",
    "\n",
    "    # Update the property for this instance\n",
    "    i.age = 42\n",
    "    # Get the property\n",
    "    i.say(i.age)                    # => \"Ian: 42\"\n",
    "    j.say(j.age)                    # => \"Joel: 0\"\n",
    "    # Delete the property\n",
    "    del i.age\n",
    "    # i.age                         # => this would raise an AttributeError"
   ]
  },
  {
   "cell_type": "markdown",
   "metadata": {},
   "source": [
    "####################################################\n",
    "## 6.1 Inheritance\n",
    "####################################################"
   ]
  },
  {
   "cell_type": "code",
   "execution_count": null,
   "metadata": {},
   "outputs": [],
   "source": [
    "# Inheritance allows new child classes to be defined that inherit methods and\n",
    "# variables from their parent class. \n",
    "\n",
    "# Using the Human class defined above as the base or parent class, we can\n",
    "# define a child class, Superhero, which inherits the class variables like\n",
    "# \"species\", \"name\", and \"age\", as well as methods, like \"sing\" and \"grunt\"\n",
    "# from the Human class, but can also have its own unique properties.\n",
    "\n",
    "# To take advantage of modularization by file you could place the classes above in their own files,\n",
    "# say, human.py\n",
    "\n",
    "# To import functions from other files use the following format\n",
    "# from \"filename-without-extension\" import \"function-or-class\"\n",
    "\n",
    "from human import Human\n",
    "\n",
    "\n",
    "# Specify the parent class(es) as parameters to the class definition\n",
    "class Superhero(Human):\n",
    "\n",
    "    # If the child class should inherit all of the parent's definitions without\n",
    "    # any modifications, you can just use the \"pass\" keyword (and nothing else)\n",
    "    # but in this case it is commented out to allow for a unique child class:\n",
    "    # pass\n",
    "\n",
    "    # Child classes can override their parents' attributes\n",
    "    species = 'Superhuman'\n",
    "\n",
    "    # Children automatically inherit their parent class's constructor including\n",
    "    # its arguments, but can also define additional arguments or definitions\n",
    "    # and override its methods such as the class constructor.\n",
    "    # This constructor inherits the \"name\" argument from the \"Human\" class and\n",
    "    # adds the \"superpower\" and \"movie\" arguments:\n",
    "    def __init__(self, name, movie=False,\n",
    "                 superpowers=[\"super strength\", \"bulletproofing\"]):\n",
    "\n",
    "        # add additional class attributes:\n",
    "        self.fictional = True\n",
    "        self.movie = movie\n",
    "        # be aware of mutable default values, since defaults are shared\n",
    "        self.superpowers = superpowers\n",
    "\n",
    "        # The \"super\" function lets you access the parent class's methods\n",
    "        # that are overridden by the child, in this case, the __init__ method.\n",
    "        # This calls the parent class constructor:\n",
    "        super().__init__(name)\n",
    "\n",
    "    # override the sing method\n",
    "    def sing(self):\n",
    "        return 'Dun, dun, DUN!'\n",
    "\n",
    "    # add an additional instance method\n",
    "    def boast(self):\n",
    "        for power in self.superpowers:\n",
    "            print(\"I wield the power of {pow}!\".format(pow=power))\n",
    "\n",
    "\n",
    "if __name__ == '__main__':\n",
    "    sup = Superhero(name=\"Tick\")\n",
    "\n",
    "    # Instance type checks\n",
    "    if isinstance(sup, Human):\n",
    "        print('I am human')\n",
    "    if type(sup) is Superhero:\n",
    "        print('I am a superhero')\n",
    "\n",
    "    # Get the Method Resolution search Order used by both getattr() and super()\n",
    "    # This attribute is dynamic and can be updated\n",
    "    print(Superhero.__mro__)    # => (<class '__main__.Superhero'>,\n",
    "                                # => <class 'human.Human'>, <class 'object'>)\n",
    "\n",
    "    # Calls parent method but uses its own class attribute\n",
    "    print(sup.get_species())    # => Superhuman\n",
    "\n",
    "    # Calls overridden method\n",
    "    print(sup.sing())           # => Dun, dun, DUN!\n",
    "\n",
    "    # Calls method from Human\n",
    "    sup.say('Spoon')            # => Tick: Spoon\n",
    "\n",
    "    # Call method that exists only in Superhero\n",
    "    sup.boast()                 # => I wield the power of super strength!\n",
    "                                # => I wield the power of bulletproofing!\n",
    "\n",
    "    # Inherited class attribute\n",
    "    sup.age = 31\n",
    "    print(sup.age)              # => 31\n",
    "\n",
    "    # Attribute that only exists within Superhero\n",
    "    print('Am I Oscar eligible? ' + str(sup.movie))"
   ]
  },
  {
   "cell_type": "markdown",
   "metadata": {},
   "source": [
    "####################################################\n",
    "## 6.2 Multiple Inheritance\n",
    "####################################################"
   ]
  },
  {
   "cell_type": "code",
   "execution_count": null,
   "metadata": {},
   "outputs": [],
   "source": [
    "# Another class definition\n",
    "# bat.py\n",
    "class Bat:\n",
    "\n",
    "    species = 'Baty'\n",
    "\n",
    "    def __init__(self, can_fly=True):\n",
    "        self.fly = can_fly\n",
    "\n",
    "    # This class also has a say method\n",
    "    def say(self, msg):\n",
    "        msg = '... ... ...'\n",
    "        return msg\n",
    "\n",
    "    # And its own method as well\n",
    "    def sonar(self):\n",
    "        return '))) ... ((('\n",
    "\n",
    "if __name__ == '__main__':\n",
    "    b = Bat()\n",
    "    print(b.say('hello'))\n",
    "    print(b.fly)\n",
    "\n",
    "\n",
    "# And yet another class definition that inherits from Superhero and Bat\n",
    "# superhero.py\n",
    "from superhero import Superhero\n",
    "from bat import Bat\n",
    "\n",
    "# Define Batman as a child that inherits from both Superhero and Bat\n",
    "class Batman(Superhero, Bat):\n",
    "\n",
    "    def __init__(self, *args, **kwargs):\n",
    "        # Typically to inherit attributes you have to call super:\n",
    "        # super(Batman, self).__init__(*args, **kwargs)      \n",
    "        # However we are dealing with multiple inheritance here, and super()\n",
    "        # only works with the next base class in the MRO list.\n",
    "        # So instead we explicitly call __init__ for all ancestors.\n",
    "        # The use of *args and **kwargs allows for a clean way to pass arguments,\n",
    "        # with each parent \"peeling a layer of the onion\".\n",
    "        Superhero.__init__(self, 'anonymous', movie=True, \n",
    "                           superpowers=['Wealthy'], *args, **kwargs)\n",
    "        Bat.__init__(self, *args, can_fly=False, **kwargs)\n",
    "        # override the value for the name attribute\n",
    "        self.name = 'Sad Affleck'\n",
    "\n",
    "    def sing(self):\n",
    "        return 'nan nan nan nan nan batman!'\n",
    "\n",
    "\n",
    "if __name__ == '__main__':\n",
    "    sup = Batman()\n",
    "\n",
    "    # Get the Method Resolution search Order used by both getattr() and super().\n",
    "    # This attribute is dynamic and can be updated\n",
    "    print(Batman.__mro__)       # => (<class '__main__.Batman'>, \n",
    "                                # => <class 'superhero.Superhero'>, \n",
    "                                # => <class 'human.Human'>, \n",
    "                                # => <class 'bat.Bat'>, <class 'object'>)\n",
    "\n",
    "    # Calls parent method but uses its own class attribute\n",
    "    print(sup.get_species())    # => Superhuman\n",
    "\n",
    "    # Calls overridden method\n",
    "    print(sup.sing())           # => nan nan nan nan nan batman!\n",
    "\n",
    "    # Calls method from Human, because inheritance order matters\n",
    "    sup.say('I agree')          # => Sad Affleck: I agree\n",
    "\n",
    "    # Call method that exists only in 2nd ancestor\n",
    "    print(sup.sonar())          # => ))) ... (((\n",
    "\n",
    "    # Inherited class attribute\n",
    "    sup.age = 100\n",
    "    print(sup.age)              # => 100\n",
    "\n",
    "    # Inherited attribute from 2nd ancestor whose default value was overridden.\n",
    "    print('Can I fly? ' + str(sup.fly)) # => Can I fly? False"
   ]
  },
  {
   "cell_type": "markdown",
   "metadata": {},
   "source": [
    "####################################################\n",
    "## 7. Advanced\n",
    "####################################################"
   ]
  },
  {
   "cell_type": "code",
   "execution_count": null,
   "metadata": {},
   "outputs": [],
   "source": [
    "# Generators help you make lazy code.\n",
    "def double_numbers(iterable):\n",
    "    for i in iterable:\n",
    "        yield i + i\n",
    "\n",
    "# Generators are memory-efficient because they only load the data needed to\n",
    "# process the next value in the iterable. This allows them to perform\n",
    "# operations on otherwise prohibitively large value ranges.\n",
    "# NOTE: `range` replaces `xrange` in Python 3.\n",
    "for i in double_numbers(range(1, 900000000)):  # `range` is a generator.\n",
    "    print(i)\n",
    "    if i >= 30:\n",
    "        break\n",
    "\n",
    "# Just as you can create a list comprehension, you can create generator\n",
    "# comprehensions as well.\n",
    "values = (-x for x in [1,2,3,4,5])\n",
    "for x in values:\n",
    "    print(x)  # prints -1 -2 -3 -4 -5 to console/terminal\n",
    "\n",
    "# You can also cast a generator comprehension directly to a list.\n",
    "values = (-x for x in [1,2,3,4,5])\n",
    "gen_to_list = list(values)\n",
    "print(gen_to_list)  # => [-1, -2, -3, -4, -5]\n",
    "\n",
    "\n",
    "# Decorators\n",
    "# In this example `beg` wraps `say`. If say_please is True then it\n",
    "# will change the returned message.\n",
    "from functools import wraps\n",
    "\n",
    "\n",
    "def beg(target_function):\n",
    "    @wraps(target_function)\n",
    "    def wrapper(*args, **kwargs):\n",
    "        msg, say_please = target_function(*args, **kwargs)\n",
    "        if say_please:\n",
    "            return \"{} {}\".format(msg, \"Please! I am poor :(\")\n",
    "        return msg\n",
    "\n",
    "    return wrapper\n",
    "\n",
    "\n",
    "@beg\n",
    "def say(say_please=False):\n",
    "    msg = \"Can you buy me a beer?\"\n",
    "    return msg, say_please\n",
    "\n",
    "\n",
    "print(say())                 # Can you buy me a beer?\n",
    "print(say(say_please=True))  # Can you buy me a beer? Please! I am poor :("
   ]
  }
 ],
 "metadata": {
  "kernelspec": {
   "display_name": "Python 3",
   "language": "python",
   "name": "python3"
  },
  "language_info": {
   "codemirror_mode": {
    "name": "ipython",
    "version": 3
   },
   "file_extension": ".py",
   "mimetype": "text/x-python",
   "name": "python",
   "nbconvert_exporter": "python",
   "pygments_lexer": "ipython3",
   "version": "3.7.4"
  }
 },
 "nbformat": 4,
 "nbformat_minor": 2
}
