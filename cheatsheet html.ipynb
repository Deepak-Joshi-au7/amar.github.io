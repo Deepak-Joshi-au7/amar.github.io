{
 "cells": [
  {
   "cell_type": "raw",
   "metadata": {},
   "source": [
    "<doctype>\n",
    "<html>\n",
    "<head>\n",
    "<body>\n",
    "<h1> - <h6>\n",
    "<p>\n",
    "<ul> & <ol>\n",
    "<dl>\n",
    "<a>\n",
    "<table>\n",
    "<strong> & <b>\n",
    "<div>\n",
    "<div> cont.\n",
    "<header>\n",
    "<nav>\n",
    "<article>\n",
    "<footer>\n",
    "<aside>\n",
    "<section>\n",
    "<img>\n",
    "<img> cont.\n",
    "<map> & <area>\n",
    "<form>\n",
    "<input>"
   ]
  },
  {
   "cell_type": "markdown",
   "metadata": {},
   "source": [
    "# Document Summary"
   ]
  },
  {
   "cell_type": "raw",
   "metadata": {},
   "source": [
    "Let us see how we can break the code up in different components:\n",
    "<html> ... </html>\n",
    "    This tag specifies that the webpage is writtenin HTML. It appears at the very first and last line of the webpage. It is mainly used to show that the page uses HTML5 – the latest version ofthe language. Also known as the root element, this tag can be thought of as a parent tag for every other tag used in the page.\n",
    "<head> ... </head>\n",
    "    This tag is used to specify meta data about the webpage. It includes the webpage’s name, its dependencies (JS and CSS scripts),font usage etc.\n",
    "<title> ... </title>\n",
    "    As the name suggests, this tag containsthe title/name of the webpage. You can see thisin your browser’s title bar for every webpage open in the browser. Search engines use this tag to extract the topic of the webpage, which is quite convenient when ranking relevant search results.\n",
    "<body> ... </body>\n",
    "    Everything the user sees on a webpage is written inside this tag. It is a container for all the contents of the webpage.\n",
    "    \n",
    "Example-\n",
    "<html>\n",
    "    <head>\n",
    "        <title>My First Website</title>\n",
    "        </head>\n",
    "<body>\n",
    "</body>\n",
    "</html>"
   ]
  },
  {
   "cell_type": "markdown",
   "metadata": {},
   "source": [
    "# Document Information"
   ]
  },
  {
   "cell_type": "raw",
   "metadata": {},
   "source": [
    "<base/>\n",
    "    Used to specify the base URL of your site,this tag makes linking to internal links on your site cleaner.\n",
    "<meta/>\n",
    "    This is the meta data tag for the webpage.Can be useful for mentioning the page’s author, keywords, original published date etc.\n",
    "<link/>\n",
    "    This is used to link to scripts external to the webpage. Typically utilized for including stylesheets.\n",
    "<style> ... </style>\n",
    "    The style tag can be used as an alternative to an external style sheet, or complement it. Includes the webpage’s appearance information.\n",
    "<script> ... </script>\n",
    "Used to add code snippets, typically in JavaScript, to make webpage dynamic. It can also be used to just link to an external script.\n",
    "    \n",
    "Example-\n",
    "<html>\n",
    "    <head>\n",
    "        <meta charset=\"utf-8\">\n",
    "        <base href=\"http://myfirstwebsite.com\" \n",
    "        target=\"_blank\" />\n",
    "        <title>My Beautiful Website</title>\n",
    "        <link rel=\"stylesheet\" href=\"/css/master.css\">\n",
    "        <script type=\"text/javascript\">\n",
    "        var dummy = 0;\n",
    "        </script>\n",
    "    </head>\n",
    "    <body>\n",
    "    \n",
    "    </body>\n",
    "</html>"
   ]
  },
  {
   "cell_type": "markdown",
   "metadata": {},
   "source": [
    "# Document Structure"
   ]
  },
  {
   "cell_type": "raw",
   "metadata": {},
   "source": [
    "<h1..h6> … </h1..h6>\n",
    "    Six different variations of writing a heading. <h1> has the largest font size, while <h6> has the smallest.\n",
    "<div> … </div>\n",
    "    A webpage’s content is usually divided into blocks, specified by the div tag.\n",
    "<span> … </span>\n",
    "    This tag injects inline elements, like an image, icon, emoticon without ruining the formatting / styling of the page.\n",
    "<p> … </p>\n",
    "    Plain text is placed inside this tag.\n",
    "<br/>\n",
    "    A line break for webpages. Is used when wanting to write a new line.\n",
    "<hr/>\n",
    "    Similar to the above tag. But in addition to switching to the next line, this tag also draws a horizontal bar to indicate the end of the section.\n",
    "\n",
    "Example-\n",
    "<div>\n",
    "     <h1>Top 5 Greatest Films</h1>\n",
    "     <p>These are considered the greatest\n",
    "     <span>reel-icon</span> of all time </p>\n",
    "     <hr/>\n",
    "     <h2>1. The Godfather</h2>\n",
    "     <p>This 1972 classic stars Marlon Brando and\n",
    "     Al Pacino.</p>\n",
    "</div>"
   ]
  },
  {
   "cell_type": "markdown",
   "metadata": {},
   "source": [
    "# Text Formatting"
   ]
  },
  {
   "cell_type": "raw",
   "metadata": {},
   "source": [
    "<strong> … </strong>\n",
    "    Makes text bold. Used to emphasize a point\n",
    "<b> … </b>\n",
    "    Alternative to the above tag, also creates bold text.\n",
    "<em> … </em>\n",
    "    Another emphasis tag, but this displays text in italics.\n",
    "<i> … </i>\n",
    "    Also used to display text in italics, but does not emphasize it like the above tag.\n",
    "<tt> … </tt>\n",
    "    Formatting for typewriter-like text. No longer supported in HTML5.\n",
    "<strike> … </strike>\n",
    "    Another old tag, this is used to draw a line at the center of the text, so as to make it appear unimportant or no longer useful.\n",
    "<cite> … </cite>\n",
    "    Tag for citing author of a quote.\n",
    "<del> … </del>\n",
    "    Pre-formatted, ‘monospace’ text laid out with whitespace inside the element intact.\n",
    "<ins> … </ins>\n",
    "    Denotes text that has been inserted into the webpage.\n",
    "<blockquote> … </blockquote>\n",
    "    Quotes often go into this tag. Is used in tandem with the <cite> tag.\n",
    "<q> … </q>\n",
    "    Similar to the above tag, but for shorter quotes.\n",
    "<abbr> … </abbr>\n",
    "    Denotes abbreviations, along with the full forms.\n",
    "<acronym> … </acronym>\n",
    "    Tag for acronyms. No HTML5 support.\n",
    "<address> … </address>\n",
    "    Tag for specifying author’s contact details.\n",
    "<dfn> … </dfn>\n",
    "    Tag dedicated for definitions.\n",
    "<code> … </code>\n",
    "    This is used to display code snippets within a paragraph.\n",
    "<sub> … </sub>\n",
    "    Used for writing a subscript (smaller font just below the mid-point of normal font). Example: ax\n",
    "<sup> … </sup>\n",
    "    Similar to the above tag, but for superscripting.\n",
    "<small> … </small>\n",
    "    Reduces text size. In HTML5, it often refers to redundant or invalid information.\n",
    "\n",
    "Example-\n",
    "<p><strong>Bold text</strong> Regular text\n",
    "<em>some words in italics</em> regular text\n",
    "once again.</p>\n",
    "\n",
    "<blockquote>\n",
    "Anyone who has never made a mistake has never\n",
    "tried anything new.<cite>- Albert Einstein</cite>\n",
    "</blockquote>\n",
    "\n",
    "<pre>\n",
    " Some pre-formatted text\n",
    "</pre>\n",
    "<p>A code snippet: <code>some code</code></p>"
   ]
  },
  {
   "cell_type": "markdown",
   "metadata": {},
   "source": [
    "# Links"
   ]
  },
  {
   "cell_type": "raw",
   "metadata": {},
   "source": [
    "<a href=””> … </a>\n",
    "    Anchor tag. Primarily used for including hyperlinks.\n",
    "<a href=”mailto:”> … </a>\n",
    "    Tag dedicated to sending emails.\n",
    "<a href=”tel://###-###”> … </a>\n",
    "    Anchor tag for mentioning contact numbers. As the numbers are clickable, this can be particularly beneficial for mobile users.\n",
    "<a name=”name”> … </a>\n",
    "    This tag can be used to quickly navigate to a different part of the webpage.\n",
    "<a href=”#name”> … </a>\n",
    "    A variation of the above tag, this is only meant to navigate to a div section of the webpage."
   ]
  },
  {
   "cell_type": "markdown",
   "metadata": {},
   "source": [
    "# Images"
   ]
  },
  {
   "cell_type": "raw",
   "metadata": {},
   "source": [
    "<img />\n",
    "    A tag to display images in the webpage.\n",
    "src=”url”\n",
    "    The URL or path where the image is located on your drive or on the web.\n",
    "alt=”text”\n",
    "    The text written here is displayed when user hovers mouse over the image. Can be used to give additional details of the image.\n",
    "height=””\n",
    "    Specifies image height in pixels or percentages.\n",
    "width=””\n",
    "    Specifies image width in pixels or percentages.\n",
    "align=””\n",
    "    The relative alignment of the image. Can change with changes to other elements in the webpage.\n",
    "border=””\n",
    "    Specifies border thickness of the image. If not mentioned, defaults to 0.\n",
    "<map> … </map>\n",
    "    Denotes an interactive (clickable) image.\n",
    "<map name=””> … </map>\n",
    "    Name of the map associated between the image and the map.\n",
    "<area />\n",
    "    Specifies image map area.\n",
    "shape=””\n",
    "    Shape of the area.\n",
    "coords=””\n",
    "    Coordinates of the vital information of the shape. Example: vertices for rectangles, center/radius for circles.\n",
    "\n",
    "Example\n",
    "<img src=\"planets.gif\" width=\"145\" height=\"126\"\n",
    "alt=\"Planets\" usemap=\"#planetmap\">\n",
    "<map name=\"planetmap\">\n",
    "     <area shape=\"rect\" coords=\"0,0,60,100\"\n",
    "     href=\"sun.htm\" alt=\"Sun\">\n",
    "     <area shape=\"circle\" coords=\"90,58,3\"\n",
    "     href=\"mercur.htm\" alt=\"Mercury\">\n",
    "     <area shape=\"circle\" coords=\"124,58,8\"\n",
    "     href=\"venus.htm\" alt=\"Venus\">\n",
    "</map>"
   ]
  },
  {
   "cell_type": "markdown",
   "metadata": {},
   "source": [
    "# Lists"
   ]
  },
  {
   "cell_type": "raw",
   "metadata": {},
   "source": [
    "<ol> … </ol>\n",
    "    Tag for ordered or numbered list of items.\n",
    "<ul> … </ul>\n",
    "    Contrary to the above tag, used for unordered list of items.\n",
    "<li> … </li>\n",
    "    Individual item as part of a list.\n",
    "<dl> … </dl>\n",
    "    Tag for list of items with definitions.\n",
    "<dt> … </dt>\n",
    "    The definition of a single term inline with body content.\n",
    "<dd> … </dd>\n",
    "    The description for the defined term.\n",
    "\n",
    "Example\n",
    "<ol>\n",
    "    <li>Monday</li>\n",
    "    <li>Tuesday</li>\n",
    "    <li>Wednesday</li>\n",
    "</ol>\n",
    "<ul>\n",
    "    <li>France</li>\n",
    "    <li>Germany</li>\n",
    "    <li>Italy</li>\n",
    "</ul>\n",
    "<dl>\n",
    "    <dt>Toyota</dt>\n",
    "    <dd>Japanese car brand</dd>\n",
    "    <dt>Armani</dt>\n",
    "    <dd>Italian fashion brand</dd>\n",
    "</dl>"
   ]
  },
  {
   "cell_type": "markdown",
   "metadata": {},
   "source": [
    "# Forms"
   ]
  },
  {
   "cell_type": "raw",
   "metadata": {},
   "source": [
    "<form> … </form>\n",
    "    The parent tag for an HTML form.\n",
    "action=”url”\n",
    "    The URL listed here is where the form data will be submitted once user fills it.\n",
    "method=””\n",
    "    It specifies which HTTP method (POST or GET) would be used to submit the form.\n",
    "enctype=””\n",
    "    Only for POST method, this dictates the data encoding scheme to be used when form is submitted. autocomplete    Determines if the form has auto-complete enabled.\n",
    "novalidate\n",
    "    Determines whether the form should be validated before submission.\n",
    "accept-charsets\n",
    "    Determines character encodings when form s submitted.\n",
    "target\n",
    "    After submission, the form response is displayed wherever this refers to, usually has the following values: _blank, _self, _parent, _top\n",
    "<fieldset> … </fieldset>\n",
    "    Identifies the group of all fields on the form.\n",
    "<label> … </label>\n",
    "    This is used to label a field in the form.\n",
    "<legend> … </legend>\n",
    "    This operates as a caption for the <fieldset> element.\n",
    "<input />\n",
    "    This tag is used to take input from the user. Iput type is determined by a number of attributes"
   ]
  },
  {
   "cell_type": "markdown",
   "metadata": {},
   "source": [
    "# Input Type Attributes"
   ]
  },
  {
   "cell_type": "raw",
   "metadata": {},
   "source": [
    "type=””\n",
    "    Determines which type of input (text, dates, password) is requested from the user.\n",
    "name=””\n",
    "    Specifies the name of the input field.\n",
    "value=””\n",
    "    Specifies the value contained currently in the input field.\n",
    "size=””\n",
    "    Determines the input element width (number of characters).\n",
    "maxlength=””\n",
    "    Specifies the most input field characters allowed.\n",
    "required\n",
    "    Makes an input field compulsory to be filled by the user. The form cannot be submitted if a required field is left empty.\n",
    "width=””\n",
    "    Determines the width of the input element, in pixel values.\n",
    "height=””\n",
    "    Determines the height of the input element, in pixel values.\n",
    "placeholder=””\n",
    "    Can be used to give hints to the user about the nature of the requested data.\n",
    "pattern=””\n",
    "    Specifies a regular expression, which can be used to look for patterns in the user’s text.\n",
    "min=””\n",
    "    The minimum value allowed for an <input> element.\n",
    "max=””\n",
    "    The maximum value allowed for an <input> element.\n",
    "autofocus\n",
    "    Forces focus on the input element when webpage loads completely.\n",
    "disabled\n",
    "    Disables the input element. User can no longer enter data.\n",
    "<textarea> … </textarea>\n",
    "    For longer strings of input. Can be used to get multi-sentence text from the user.\n",
    "<select> … </select>\n",
    "    This tag specifies a list of options which the user can choose from."
   ]
  },
  {
   "cell_type": "markdown",
   "metadata": {},
   "source": [
    "# Select Attributes"
   ]
  },
  {
   "cell_type": "raw",
   "metadata": {},
   "source": [
    "name=””\n",
    "    The name of a particular list of options.\n",
    "size=””\n",
    "    Total number of options given to the user.\n",
    "multiple\n",
    "    States whether the user can choose multiple options from the list.\n",
    "required\n",
    "    Speciﬁes whether choosing an option/s is necessary for form submission.\n",
    "autofocus\n",
    "    Speciﬁes that a drop-down list automatically comes into focus after a page loads.\n",
    "<option> … </option>\n",
    "    Tag for listing individual items in the list of options."
   ]
  },
  {
   "cell_type": "markdown",
   "metadata": {},
   "source": [
    "# Option Attributes"
   ]
  },
  {
   "cell_type": "raw",
   "metadata": {},
   "source": [
    "value=”” \n",
    "    The text visible to the user for any given option.\n",
    "selected\n",
    "    Determines which option is selected by default when the form loads.\n",
    "<button> … </button> \n",
    "    Tag for creating a button for form submission.\n",
    "\n",
    "Example\n",
    "\n",
    "<form action=\"form_submit.php\"method=\"post\">\n",
    "    <ﬁeldset>\n",
    "    <legend>Bio:</legend> \n",
    "    First name:<br>\n",
    "    <input type=\"text\" name=\"ﬁrst-name\"\n",
    "    value=\"John\" placeholder=\"Please enter your ﬁrst name here\"><br> Last name:<br>\n",
    "    <input type=\"text\" name=\"last-name\"\n",
    "    value=\"Doe\" placeholder=\"Please enter your last name here\"><br><br> Favorite sport:<br> \n",
    "    <select>\n",
    "        <option value=\"soccer\">Soccer\n",
    "        </option>\n",
    "        <option value=\"tennis\">Tennis\n",
    "        </option>\n",
    "        <option value=\"golf\">Golf\n",
    "        </option>\n",
    "    </select>\n",
    "    <textarea name=\"description\">\n",
    "    </textarea>\n",
    "    <input type=\"submit\" value=\"Submit\">\n",
    "    </ﬁeldset> \n",
    "</form>"
   ]
  },
  {
   "cell_type": "markdown",
   "metadata": {},
   "source": [
    "# Tables"
   ]
  },
  {
   "cell_type": "raw",
   "metadata": {},
   "source": [
    "<table> … </table> \n",
    "    Marks a table in a webpage.\n",
    "<caption> … </caption> \n",
    "    Description of the table is placed inside this tag.\n",
    "<thead> … </thead>\n",
    "    Speciﬁes information pertaining to speciﬁc columns of the table.\n",
    "<tbody> … </tbody> \n",
    "    The body of a table, where the data is held.\n",
    "<tfoot> … </tfoot> \n",
    "    Determines the footer of the table.\n",
    "<tr> … </tr> \n",
    "    Denotes a single row in a table.\n",
    "<th> … </th>\n",
    "    The value of a heading of a table’s column.\n",
    "<td> … </td>\n",
    "    A single cell of a table. Contains the actual value/data.\n",
    "<colgroup> … </colgroup> \n",
    "    Used for grouping columns together.\n",
    "<col> \n",
    "    Denotes a column inside a table.\n",
    "\n",
    "Examples\n",
    "<table> \n",
    "    <colgroup>\n",
    "        <col span=\"2\">\n",
    "        <col>\n",
    "    </colgroup>\n",
    "    <tr>\n",
    "        <th>Name</th> \n",
    "        <th>Major</th>\n",
    "        <th>GPA</th>\n",
    "    </tr>\n",
    "    <tr> \n",
    "        <td>Bob</td>\n",
    "        <td>Law</td> \n",
    "        <td>3.55</td>\n",
    "    </tr> \n",
    "    <tr> \n",
    "        <td>Alice</td> \n",
    "        <td>Medicine</td>\n",
    "        <td>3.61</td>\n",
    "    </tr> \n",
    "</table>"
   ]
  },
  {
   "cell_type": "markdown",
   "metadata": {},
   "source": [
    "# Objects and iFrames"
   ]
  },
  {
   "cell_type": "raw",
   "metadata": {},
   "source": [
    "<object> … </object>\n",
    "    This tag is used to embed additional multimedia into a webpage. Can be audio, video, document (pdf) etc.\n",
    "height=”” \n",
    "    Determines object height in pixel values.\n",
    "width=”” \n",
    "    Determines object width in pixel values.\n",
    "type=”” \n",
    "    The type/format of the object’s contents.\n",
    "<iframe> … </iframe>\n",
    "    An inline block of content, this is used as a container for multimedia in a ﬂexible manner. It ﬂoats inside a webpage, meaning it is placed relative to other webpage items."
   ]
  },
  {
   "cell_type": "markdown",
   "metadata": {},
   "source": [
    "# iFrame Attributes"
   ]
  },
  {
   "cell_type": "raw",
   "metadata": {},
   "source": [
    "name=”” \n",
    "    The name of the iFrame.\n",
    "src=””\n",
    "    The source URL/path of the multimedia object to be held inside the iFrame.\n",
    "srcdoc=””\n",
    "    Any HTML content to be displayed inside the iFrame.\n",
    "height=”” \n",
    "    Determines the height of the iFrame.\n",
    "width=” ” \n",
    "    Determines the width of the iFrame.\n",
    "<param />\n",
    "    For iFrame customization. This includes additional parameters to go along with the content.\n",
    "<embed> … </embed>\n",
    "    This is used to embed external objects, like plugins (e.g. a ﬂash video)."
   ]
  },
  {
   "cell_type": "markdown",
   "metadata": {},
   "source": [
    "# Embed Attributes"
   ]
  },
  {
   "cell_type": "raw",
   "metadata": {},
   "source": [
    "height=”“ \n",
    "    Determines the height of the embedded item.\n",
    "width=”“ \n",
    "    Determines the width of the embedded item.\n",
    "type=”” \n",
    "    The type or format of the embedded content.\n",
    "src=”” \n",
    "    The URL/path of the embedded item.\n",
    "\n",
    "Example\n",
    "<object width=\"1000\" height=\"1000\"></object>\n",
    "<iframe src=\"some_other_webpage.html\"\n",
    "width=\"500\" height=\"500\"></iframe>\n",
    "<embed src=\"some_video.swf\" width=\"500\"\n",
    "height=“500\"></embed>"
   ]
  },
  {
   "cell_type": "markdown",
   "metadata": {},
   "source": [
    "# HTML 5 New Tags"
   ]
  },
  {
   "cell_type": "raw",
   "metadata": {},
   "source": [
    "<header> … </header>\n",
    "    Speciﬁes the webpage header. Could also be used for objects inside the webpage.\n",
    "<footer> … </footer>\n",
    "    Speciﬁes the webpage footer. Could also be used for objects inside the webpage.\n",
    "<main>…</main>\n",
    "    Marks the main content of the webpage.\n",
    "<article>…</article>\n",
    "    Denotes an article.\n",
    "<aside> … </aside>\n",
    "    Denotes content displayed in a sidebar of the webpage.\n",
    "<section>…</section>\n",
    "    Speciﬁes a particular section in the webpage.\n",
    "<details> … </details>\n",
    "    Used for additional information. User has the option to view or hide this.\n",
    "<summary> … </summary>\n",
    "    Used as a heading for the above tag. Is always visible to the user.\n",
    "<dialog>…</dialog> \n",
    "    Used to create a dialog box.\n",
    "<ﬁgure>…</ﬁgure> \n",
    "    A tag reserved for ﬁgures (diagrams, charts) in HTML5.\n",
    "<ﬁgcaption> … </ﬁgcaption> \n",
    "    A description of the ﬁgure is placed inside these.\n",
    "<mark>…</mark>\n",
    "    Used to highlight a particular portion of the text.\n",
    "<nav>…</nav>\n",
    "    Navigation links for the user in a webpage.\n",
    "<menuitem>…</menuitem>\n",
    "    A particular item from a list or a menu.\n",
    "<meter>…</meter>\n",
    "    Measures data within a given range.\n",
    "<progress>…</progress>\n",
    "    Typically used as a progress bar, this is used to track progress.\n",
    "<rp>…</rp>\n",
    "    This tag is meant for showing text for browsers without ruby annotation support.\n",
    "<rt>…</rt>\n",
    "    Displays East Asian typography character details.\n",
    "<ruby>…</ruby>\n",
    "    Describes a Ruby annotation for East Asian typography\n",
    "<time>…</time>\n",
    "    Tag for formatting date and time.\n",
    "<wbr>\n",
    "    A line-break within the content."
   ]
  },
  {
   "cell_type": "markdown",
   "metadata": {},
   "source": [
    "# Collective Character Objects"
   ]
  },
  {
   "cell_type": "raw",
   "metadata": {},
   "source": [
    "&#34; &quot; Quotation Marks - “\n",
    "\n",
    "&#60; &lt; Less than sign - <\n",
    "\n",
    "&#62; &gt; Greater than sign - >\n",
    "\n",
    "&#160; &nbsp; Non-breaking space\n",
    "\n",
    "&#169; &copy; Copyright symbol - ©\n",
    "\n",
    "&#38; &amp; Ampersand - &\n",
    "\n",
    "&#64; &Uuml; @ Symbol - @\n",
    "\n",
    "&#149; &ouml; Small bullet - •\n",
    "\n",
    "&#153; &ucirc; Trademark symbol - ™"
   ]
  }
 ],
 "metadata": {
  "kernelspec": {
   "display_name": "Python 3",
   "language": "python",
   "name": "python3"
  },
  "language_info": {
   "codemirror_mode": {
    "name": "ipython",
    "version": 3
   },
   "file_extension": ".py",
   "mimetype": "text/x-python",
   "name": "python",
   "nbconvert_exporter": "python",
   "pygments_lexer": "ipython3",
   "version": "3.7.4"
  }
 },
 "nbformat": 4,
 "nbformat_minor": 2
}
