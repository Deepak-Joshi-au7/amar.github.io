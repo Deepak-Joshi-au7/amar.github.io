{
 "cells": [
  {
   "cell_type": "markdown",
   "metadata": {},
   "source": [
    "# Algorithm"
   ]
  },
  {
   "cell_type": "markdown",
   "metadata": {},
   "source": [
    "## Big O Notation"
   ]
  },
  {
   "cell_type": "code",
   "execution_count": null,
   "metadata": {},
   "outputs": [],
   "source": [
    "###"
   ]
  },
  {
   "cell_type": "markdown",
   "metadata": {},
   "source": [
    "## Linear Search Algorithm"
   ]
  },
  {
   "cell_type": "code",
   "execution_count": 6,
   "metadata": {},
   "outputs": [
    {
     "name": "stdout",
     "output_type": "stream",
     "text": [
      "True\n",
      "\n",
      "False\n"
     ]
    }
   ],
   "source": [
    "def LinearSearch(a, key):\n",
    "    position = 0\n",
    "    flag = False\n",
    "    while position < len(a) and not flag:\n",
    "        if a [position]==key:\n",
    "            flag= True\n",
    "        else:\n",
    "            position=position+1\n",
    "    return flag\n",
    "a=[84, 21, 47, 96, 15]\n",
    "found=LinearSearch (a, 84)\n",
    "print(found)\n",
    "print()\n",
    "found=LinearSearch (a, 7)\n",
    "print(found)"
   ]
  },
  {
   "cell_type": "markdown",
   "metadata": {},
   "source": [
    "## Recursion"
   ]
  },
  {
   "cell_type": "markdown",
   "metadata": {},
   "source": [
    "It is a technique where a function or methord makes a call to itself\n",
    " ex- (i)Factorial Function-(Classical Math Function)\n",
    "     (ii)Fibonacci Series-(Sequence of No.)\n",
    "     (iii)Binary Search-(Imp Search Algo)\n",
    "#Recursive Function\n",
    "Function Recursive(input:\n",
    "   if input<=0:\n",
    "       return input\n",
    "   else:\n",
    "   output = recursive (input)\n",
    "   return output"
   ]
  },
  {
   "cell_type": "markdown",
   "metadata": {},
   "source": [
    "## Factorial"
   ]
  },
  {
   "cell_type": "code",
   "execution_count": 17,
   "metadata": {},
   "outputs": [
    {
     "name": "stdout",
     "output_type": "stream",
     "text": [
      "40320\n"
     ]
    }
   ],
   "source": [
    "def Factorial(n):\n",
    "    if n==0:\n",
    "        return 1\n",
    "    return n * Factorial (n-1)\n",
    "result = Factorial(8)    \n",
    "print(result)"
   ]
  },
  {
   "cell_type": "markdown",
   "metadata": {},
   "source": [
    "## Fibonacci"
   ]
  },
  {
   "cell_type": "code",
   "execution_count": 22,
   "metadata": {},
   "outputs": [
    {
     "name": "stdout",
     "output_type": "stream",
     "text": [
      "10\n",
      "1 1 2 3 5 8 13 21 34 55 "
     ]
    }
   ],
   "source": [
    "def Fibonacci(n):\n",
    "    if n==0:\n",
    "        return 0\n",
    "    elif n==1:\n",
    "        return 1\n",
    "    else:\n",
    "        return Fibonacci(n-1)+Fibonacci(n-2)\n",
    "n=int(input())\n",
    "for i in range(1, n+1):\n",
    "    print(Fibonacci(i), end=\" \")"
   ]
  },
  {
   "cell_type": "markdown",
   "metadata": {},
   "source": [
    "## Binary Search Algorithm (iteratively)"
   ]
  },
  {
   "cell_type": "code",
   "execution_count": 24,
   "metadata": {},
   "outputs": [
    {
     "name": "stdout",
     "output_type": "stream",
     "text": [
      "True\n"
     ]
    }
   ],
   "source": [
    "#Sorted List\n",
    "def BinarySearch(a, key):\n",
    "    low=0\n",
    "    high=len(a)-1\n",
    "    while low<=high:\n",
    "        mid = (low+high)//2\n",
    "        if key==a[mid]:\n",
    "            return True\n",
    "        elif key<a[mid]:\n",
    "            high=mid-1\n",
    "        else:\n",
    "            low=mid+1\n",
    "            return False\n",
    "a=[15, 21, 47, 84, 96]\n",
    "found=BinarySearch(a, 47)\n",
    "print(found)"
   ]
  },
  {
   "cell_type": "markdown",
   "metadata": {},
   "source": [
    "## Binary Search Algorithm (recursively)"
   ]
  },
  {
   "cell_type": "code",
   "execution_count": 50,
   "metadata": {},
   "outputs": [
    {
     "name": "stdout",
     "output_type": "stream",
     "text": [
      "84\n",
      "3\n"
     ]
    }
   ],
   "source": [
    "def BinarySearch(a, key, low, high):\n",
    "    if high >= low:\n",
    "        mid = low + (high - low)//2\n",
    "        if key==a[mid]:\n",
    "            return mid\n",
    "        elif key<a[mid]:\n",
    "            return BinarySearch(a, key, low, mid-1)\n",
    "        else:\n",
    "            return BinarySearch(a, key, mid+1, high)\n",
    "    else:\n",
    "        return \"not present\"\n",
    "a=[15, 21, 47, 84, 96]\n",
    "key=int(input())\n",
    "print(BinarySearch(a, key, 0, len(a)-1))"
   ]
  },
  {
   "cell_type": "markdown",
   "metadata": {},
   "source": [
    "## Selection Sort"
   ]
  },
  {
   "cell_type": "code",
   "execution_count": 83,
   "metadata": {
    "scrolled": true
   },
   "outputs": [
    {
     "name": "stdout",
     "output_type": "stream",
     "text": [
      "[0, 1, 2, 5, 6, 4, 9]\n"
     ]
    }
   ],
   "source": [
    "# Minimum Position\n",
    "def SelectionSort(List):\n",
    "    for i in range (len(List)):\n",
    "        MinPos=i\n",
    "        for j in range(i+1, len(List)):\n",
    "            if List [MinPos]>List[j]:\n",
    "                MinPos=j\n",
    "            List[i], List[MinPos]=List[MinPos], List[i]            \n",
    "    return List\n",
    "List=[5, 2, 1, 9, 0, 4,6]\n",
    "print(SelectionSort(List))"
   ]
  },
  {
   "cell_type": "code",
   "execution_count": 101,
   "metadata": {
    "scrolled": true
   },
   "outputs": [
    {
     "name": "stdout",
     "output_type": "stream",
     "text": [
      "[0, 1, 2, 4, 5, 6, 9]\n"
     ]
    }
   ],
   "source": [
    "# Maximum Position\n",
    "def SelectionSort(List):\n",
    "    for i in range (len(List)-1, 0, -1):\n",
    "        MaxPos=0\n",
    "        for j in range(1, i+1):\n",
    "            if List[j] > List[MaxPos]:\n",
    "                MaxPos=j\n",
    "            List[i], List[MaxPos]=List[MaxPos], List[i]\n",
    "    return List\n",
    "List=[5, 2, 1, 9, 0, 4,6]\n",
    "print(SelectionSort(List))"
   ]
  },
  {
   "cell_type": "markdown",
   "metadata": {},
   "source": [
    "## Counting Sort"
   ]
  },
  {
   "cell_type": "code",
   "execution_count": 107,
   "metadata": {},
   "outputs": [
    {
     "name": "stdout",
     "output_type": "stream",
     "text": [
      "[4]\n",
      "[4, 5]\n",
      "[4, 5, 7]\n",
      "[4, 5, 7, 7]\n",
      "[4, 5, 7, 7, 8]\n",
      "[4, 5, 7, 7, 8, 9]\n",
      "[4, 5, 7, 7, 8, 9, 13]\n",
      "[4, 5, 7, 7, 8, 9, 13, 13]\n",
      "[4, 5, 7, 7, 8, 9, 13, 13, 13]\n"
     ]
    }
   ],
   "source": [
    "L=[4, 8, 5, 7, 7, 13, 13, 13, 9]\n",
    "countOccur=[0]*(max(L)-min(L)+1)\n",
    "for i in L:\n",
    "        countOccur[i-min(L)]+=1\n",
    "        n=len(countOccur)\n",
    "        SortedArr=[]\n",
    "    #print(countOccur) to get index value\n",
    "for i in range(n):\n",
    "        for j in range(countOccur[i]):\n",
    "            SortedArr.append(i+min(L))\n",
    "            print(SortedArr)"
   ]
  },
  {
   "cell_type": "code",
   "execution_count": 93,
   "metadata": {},
   "outputs": [
    {
     "name": "stdout",
     "output_type": "stream",
     "text": [
      "Sorted Array in Ascending Order: \n",
      "[1, 2, 2, 3, 3, 4, 8]\n"
     ]
    }
   ],
   "source": [
    "# Counting sort in Python programming\n",
    "\n",
    "def countingSort(array):\n",
    "    size = len(array)\n",
    "    output = [0] * size\n",
    "    count = [0] * 10\n",
    "\n",
    "    for i in range(0, size):\n",
    "        count[array[i]] += 1\n",
    "\n",
    "    for i in range(1, 10):\n",
    "        count[i] += count[i - 1]\n",
    "\n",
    "    i = size - 1\n",
    "    while i >= 0:\n",
    "        output[count[array[i]] - 1] = array[i]\n",
    "        count[array[i]] -= 1\n",
    "        i -= 1\n",
    "\n",
    "    for i in range(0, size):\n",
    "        array[i] = output[i]\n",
    "\n",
    "\n",
    "data = [4, 2, 2, 8, 3, 3, 1]\n",
    "countingSort(data)\n",
    "print(\"Sorted Array in Ascending Order: \")\n",
    "print(data)"
   ]
  },
  {
   "cell_type": "markdown",
   "metadata": {},
   "source": [
    "## Insertion Sort"
   ]
  },
  {
   "cell_type": "code",
   "execution_count": 145,
   "metadata": {},
   "outputs": [
    {
     "name": "stdout",
     "output_type": "stream",
     "text": [
      "[15, 21, 47, 84, 96]\n"
     ]
    }
   ],
   "source": [
    "def InsertionSort(a):\n",
    "    for i in range(len(a)):\n",
    "        value=a[i]\n",
    "        pos=i-1\n",
    "        while pos>=0 and a[pos] > value:\n",
    "            a[pos]=a[pos+1]\n",
    "            pos=pos-1\n",
    "            a[pos+1]=value\n",
    "data=[15, 21, 47, 84, 96]\n",
    "found=InsertionSort(data)\n",
    "print(data)"
   ]
  },
  {
   "cell_type": "markdown",
   "metadata": {},
   "source": [
    "## Bubble Sort"
   ]
  },
  {
   "cell_type": "code",
   "execution_count": 147,
   "metadata": {},
   "outputs": [
    {
     "name": "stdout",
     "output_type": "stream",
     "text": [
      "[15, 21, 47, 74, 84, 96]\n"
     ]
    }
   ],
   "source": [
    "def BubbleSort(a):\n",
    "    for i in range (len(a)-1, 0, -1):\n",
    "        for j in range (i):\n",
    "            if a[j] > a[j+1]:\n",
    "                a[j], a[j+1]=a[j+1], a[j]\n",
    "data=[15, 21, 47, 84, 74,  96]\n",
    "found=BubbleSort(data)\n",
    "print(data)"
   ]
  },
  {
   "cell_type": "markdown",
   "metadata": {},
   "source": [
    "## Merge Sort"
   ]
  },
  {
   "cell_type": "code",
   "execution_count": 158,
   "metadata": {},
   "outputs": [
    {
     "name": "stdout",
     "output_type": "stream",
     "text": [
      "[11, 2, 5, 4, 9, 2]\n"
     ]
    }
   ],
   "source": [
    "\"\"\"\n",
    "65  31    87  24\n",
    "56  13    78  24\n",
    " 1356      2478\n",
    "    12345678\n",
    "\"\"\"\n",
    "def MergeSort(arr):\n",
    "    if len(arr) > 1:\n",
    "        mid=len(arr)//2\n",
    "        lefthalf = arr[mid:]\n",
    "        righthalf = arr[:mid]\n",
    "        \n",
    "        MergeSort(lefthalf)\n",
    "        MergeSort(righthalf)\n",
    "        i=0\n",
    "        j=0\n",
    "        k=0\n",
    "        while i < len(lefthalf) and j<len(righthalf):\n",
    "            if lefthalf[i]<righthalf[j]:\n",
    "                arr[k]=lefthalf[i]\n",
    "                i=i+1\n",
    "            else:\n",
    "                arr[k]=righthalf[j]\n",
    "                j=j+1\n",
    "                k=k+1\n",
    "        while i<len(lefthalf):\n",
    "            arr[k]=lefthalf[i]\n",
    "            i=i+1\n",
    "            k=k+1\n",
    "        while j < len(righthalf):\n",
    "            arr[k]=righthalf[j]\n",
    "            j=j+1\n",
    "            k=k+1\n",
    "arr=[11, 2, 5, 4, 9, 2]\n",
    "MergeSort(arr)\n",
    "print(arr)"
   ]
  },
  {
   "cell_type": "markdown",
   "metadata": {},
   "source": [
    "## Quick Sort"
   ]
  },
  {
   "cell_type": "code",
   "execution_count": 170,
   "metadata": {},
   "outputs": [
    {
     "name": "stdout",
     "output_type": "stream",
     "text": [
      "[15, 21, 84, 47, 96]\n"
     ]
    }
   ],
   "source": [
    "def QuickSort(a, low, high):\n",
    "    if low < high:\n",
    "        p = partition(a, low, high)\n",
    "        QuickSort(a, low, p-1)\n",
    "        QuickSort(a, p+1, high)\n",
    "        \n",
    "def partition(a, low, high):\n",
    "    i=low-1\n",
    "    pivot=a[high]\n",
    "    for j in range(low, high):\n",
    "        if a[j]<=pivot:\n",
    "            i=i+1\n",
    "        a[i], a[j]=a[j], a[i]\n",
    "        \n",
    "    a[i+1], a[high]= a[high], a[i+1]\n",
    "    return i+1\n",
    "a=[84, 21, 96, 15, 47]\n",
    "QuickSort(a, 0, len(a)-1)\n",
    "print(a)"
   ]
  },
  {
   "cell_type": "markdown",
   "metadata": {},
   "source": [
    "## Time and Space Complexity"
   ]
  },
  {
   "cell_type": "code",
   "execution_count": null,
   "metadata": {},
   "outputs": [],
   "source": []
  },
  {
   "cell_type": "markdown",
   "metadata": {},
   "source": [
    "# Data Structure"
   ]
  },
  {
   "cell_type": "markdown",
   "metadata": {},
   "source": [
    "## Linked List & Implementation"
   ]
  },
  {
   "cell_type": "markdown",
   "metadata": {},
   "source": [
    "### Singly Linked List"
   ]
  },
  {
   "cell_type": "code",
   "execution_count": 10,
   "metadata": {},
   "outputs": [
    {
     "name": "stdout",
     "output_type": "stream",
     "text": [
      "1 2 3 4 "
     ]
    }
   ],
   "source": [
    "class Node:\n",
    "    def __init__(self, data):\n",
    "        self.data=data\n",
    "        self.next=None\n",
    "class LinkedList:\n",
    "    def __init__(self):\n",
    "        self.head=None\n",
    "        \n",
    "        # Function to insert in front\n",
    "    def push(self, new_data):\n",
    "        new_node = Node(new_data)\n",
    "        new_node.next = self.head\n",
    "        self.head = new_node\n",
    "\n",
    "        # Function to insert in front\n",
    "    def insertAfter(self, prev_node, new_data): \n",
    "        if prev_node is None: \n",
    "            print (\"The given previous node must inLinkedList.\")\n",
    "            return\n",
    "        new_node = Node(new_data) \n",
    "        new_node.next = prev_node.next\n",
    "        prev_node.next = new_node \n",
    " \n",
    "        #Function to add at the end    \n",
    "    def append(self, new_data): \n",
    "        new_node = Node(new_data)\n",
    "        if self.head is None:\n",
    "            self.head = new_node\n",
    "            return\n",
    "        last = self.head\n",
    "        while (last.next):\n",
    "            last = last.next\n",
    "        last.next = new_node\n",
    "        \n",
    "        #function to delete front\n",
    "    def deletefirst(self, key):\n",
    "        temp=self.head\n",
    "        if temp and temp.data == key:\n",
    "            self.next=temp.next\n",
    "            temp=None\n",
    "            return\n",
    "        #function to delete specific\n",
    "        prev=None\n",
    "        while temp and temp.data !=key:\n",
    "            prev=temp\n",
    "            temp=temp.next\n",
    "        if temp is None:\n",
    "            return\n",
    "\n",
    "        prev.next=temp.next\n",
    "        temp=None\n",
    "        \n",
    "    \n",
    "            \n",
    "        # Function to print\n",
    "    def PrintList(self):\n",
    "        temp=self.head\n",
    "        while(temp):\n",
    "            print(temp.data, end=\" \")\n",
    "            temp=temp.next\n",
    "            \n",
    "            \n",
    "#code to run all above\n",
    "mylist=LinkedList()\n",
    "mylist.head=Node(1)\n",
    "b=Node(2)\n",
    "c=Node(3)\n",
    "d=Node(4)\n",
    "mylist.head.next=b\n",
    "b.next=c\n",
    "c.next=d\n",
    "#mylist.push(4)\n",
    "#mylist.insertAfter(mylist.head.next, 8)\n",
    "#mylist.append(12)\n",
    "mylist.deletefirst(1)\n",
    "mylist.PrintList()"
   ]
  },
  {
   "cell_type": "markdown",
   "metadata": {},
   "source": [
    "### Circular Linked List"
   ]
  },
  {
   "cell_type": "code",
   "execution_count": 6,
   "metadata": {},
   "outputs": [
    {
     "name": "stdout",
     "output_type": "stream",
     "text": [
      "B D "
     ]
    }
   ],
   "source": [
    "class Node:\n",
    "    def __init__(self, data):\n",
    "        self.data = data \n",
    "        self.next = None\n",
    "\n",
    "\n",
    "class CircularLinkedList:\n",
    "    def __init__(self):\n",
    "        self.head = None \n",
    "        # Function to insert in front(prepend)\n",
    "    def prepend(self, data):\n",
    "        new_node = Node(data)\n",
    "        temp = self.head \n",
    "        new_node.next = self.head\n",
    "\n",
    "        if not self.head:\n",
    "            new_node.next = new_node\n",
    "        else:\n",
    "            while temp.next != self.head:\n",
    "                temp = temp.next\n",
    "            temp.next = new_node\n",
    "        self.head = new_node\n",
    "        # Function to insert at the end(append)\n",
    "    def append(self, data):\n",
    "        if not self.head:\n",
    "            self.head = Node(data)\n",
    "            self.head.next = self.head\n",
    "        else:\n",
    "            new_node = Node(data)\n",
    "            temp = self.head\n",
    "            while temp.next != self.head:\n",
    "                temp = temp.next\n",
    "            temp.next = new_node\n",
    "            new_node.next = self.head\n",
    "        # Function to print\n",
    "    def print_list(self):\n",
    "        temp = self.head \n",
    "\n",
    "        while temp:\n",
    "            print(temp.data, end=\" \")\n",
    "            temp = temp.next\n",
    "            if temp == self.head:\n",
    "                break\n",
    "        # Function to delete\n",
    "    def remove(self, key):\n",
    "        if self.head.data == key:\n",
    "            temp = self.head \n",
    "            while temp.next != self.head:\n",
    "                temp = temp.next \n",
    "            temp.next = self.head.next\n",
    "            self.head = self.head.next\n",
    "        else:\n",
    "            temp = self.head \n",
    "            prev = None \n",
    "            while temp.next != self.head:\n",
    "                prev = temp \n",
    "                temp = temp.next\n",
    "                if temp.data == key:\n",
    "                    prev.next = temp.next \n",
    "                    temp = temp.next\n",
    "\n",
    "\n",
    "cllist = CircularLinkedList()\n",
    "cllist.append(\"A\")\n",
    "cllist.append(\"B\")\n",
    "cllist.append(\"C\")\n",
    "cllist.append(\"D\")\n",
    "\n",
    "cllist.remove(\"A\")\n",
    "cllist.remove(\"C\")\n",
    "cllist.print_list()"
   ]
  },
  {
   "cell_type": "markdown",
   "metadata": {},
   "source": [
    "### Doubly Linked List"
   ]
  },
  {
   "cell_type": "code",
   "execution_count": 14,
   "metadata": {},
   "outputs": [
    {
     "name": "stdout",
     "output_type": "stream",
     "text": [
      "5 0 1 2 5 4 "
     ]
    }
   ],
   "source": [
    "class Node:\n",
    "    def __init__(self, data):\n",
    "        self.data = data\n",
    "        self.next = None\n",
    "        self.prev = None\n",
    "\n",
    "\n",
    "class DoublyLinkedList:\n",
    "    def __init__(self):\n",
    "        self.head = None\n",
    "        # Function to insert in end(append)\n",
    "    def append(self, data):\n",
    "        if self.head is None:\n",
    "            new_node = Node(data)\n",
    "            new_node.prev = None\n",
    "            self.head = new_node\n",
    "        else:\n",
    "            new_node = Node(data)\n",
    "            temp = self.head\n",
    "            while temp.next:\n",
    "                temp = temp.next\n",
    "            temp.next = new_node\n",
    "            new_node.prev = temp\n",
    "            new_node.next = None\n",
    "        # Function to insert in front(prepend)\n",
    "    def prepend(self, data):\n",
    "        if self.head is None:\n",
    "            new_node = Node(data)\n",
    "            new_node.prev = None \n",
    "            self.head = new_node\n",
    "        else:\n",
    "            new_node = Node(data)\n",
    "            self.head.prev = new_node\n",
    "            new_node.next = self.head\n",
    "            self.head = new_node\n",
    "            new_node.prev = None\n",
    "        # Function to print\n",
    "    def print_list(self):\n",
    "        temp = self.head\n",
    "        while temp:\n",
    "            print(temp.data, end=\" \")\n",
    "            temp = temp.next\n",
    "    def add_after_node(self, key, data):\n",
    "        temp = self.head\n",
    "        while temp:\n",
    "            if temp.next is None and temp.data == key:\n",
    "                self.append(data)\n",
    "                return \n",
    "            elif temp.data == key:\n",
    "                new_node = Node(data)\n",
    "                nxt = temp.next\n",
    "                temp.next = new_node\n",
    "                new_node.next = nxt\n",
    "                new_node.prev = temp\n",
    "                nxt.prev = new_node\n",
    "            temp = temp.next\n",
    "\n",
    "    def add_before_node(self, key, data):\n",
    "        temp = self.head\n",
    "        while temp:\n",
    "            if temp.prev is None and temp.data == key:\n",
    "                self.prepend(data)\n",
    "                return\n",
    "            elif temp.data == key:\n",
    "                new_node = Node(data)\n",
    "                prev = temp.prev\n",
    "                prev.next = new_node\n",
    "                temp.prev = new_node\n",
    "                new_node.next = temp\n",
    "                new_node.prev = prev\n",
    "            temp = temp.next\n",
    "        # Function to delete\n",
    "    def delete(self, key):\n",
    "        temp = self.head\n",
    "        while temp:\n",
    "            if temp.data == key and temp == self.head:\n",
    "                # Case 1:\n",
    "                if not temp.next:\n",
    "                    temp = None \n",
    "                    self.head = None\n",
    "                    return\n",
    "\n",
    "                # Case 2:\n",
    "                else:\n",
    "                    nxt = temp.next\n",
    "                    temp.next = None \n",
    "                    nxt.prev = None\n",
    "                    temp = None\n",
    "                    self.head = nxt\n",
    "                    return \n",
    "\n",
    "            elif temp.data == key:\n",
    "                # Case 3:\n",
    "                if temp.next:\n",
    "                    nxt = temp.next \n",
    "                    prev = temp.prev\n",
    "                    prev.next = nxt\n",
    "                    nxt.prev = prev\n",
    "                    temp.next = None \n",
    "                    temp.prev = None\n",
    "                    temp = None\n",
    "                    return\n",
    "\n",
    "                # Case 4:\n",
    "                else:\n",
    "                    prev = temp.prev \n",
    "                    prev.next = None \n",
    "                    temp.prev = None \n",
    "                    temp = None \n",
    "                    return \n",
    "            temp = temp.next\n",
    "\n",
    "\n",
    "dllist = DoublyLinkedList()\n",
    "dllist.prepend(0)\n",
    "dllist.append(1)\n",
    "dllist.append(2)\n",
    "dllist.append(3)\n",
    "dllist.append(4)\n",
    "dllist.prepend(5)\n",
    "dllist.delete(3)\n",
    "dllist.add_after_node(2, 5)\n",
    "\n",
    "dllist.print_list()"
   ]
  },
  {
   "cell_type": "markdown",
   "metadata": {},
   "source": [
    "# stack"
   ]
  },
  {
   "cell_type": "code",
   "execution_count": 199,
   "metadata": {},
   "outputs": [
    {
     "name": "stdout",
     "output_type": "stream",
     "text": [
      "\n",
      "stack is not empty\n",
      "[10]\n",
      "1\n"
     ]
    },
    {
     "data": {
      "text/plain": [
       "10"
      ]
     },
     "execution_count": 199,
     "metadata": {},
     "output_type": "execute_result"
    }
   ],
   "source": [
    "class Stack:\n",
    "    def __init__(self, maxSize=100):\n",
    "        self.maxSize=maxSize\n",
    "        self.tempSize=0\n",
    "        self.stack=[]\n",
    "    \n",
    "    def __len__(self):\n",
    "        return len(self.stack)\n",
    "        \n",
    "        #to add an element to the top of the stack\n",
    "    def push(self, data):\n",
    "        if self.maxSize<=self.tempSize:\n",
    "            print(\"Stack Over Flow\")\n",
    "            return\n",
    "        self.stack.append(data)\n",
    "        self.tempSize+=1\n",
    "        #print(\"succesfully added\")\n",
    "        \n",
    "        #remove an element from the top of the stack\n",
    "    def pop(self):\n",
    "        if self.tempSize==0:\n",
    "            print(\"under Flow Error\")\n",
    "            return None\n",
    "        elem=self.stack.pop()\n",
    "        self.tempSize-=1\n",
    "        #print(\"Element poped succesfully\")\n",
    "        return elem\n",
    "    \n",
    "        #return(show) the element from the top of the list.\n",
    "    def peek(self):\n",
    "        if self.tempSize<=0:\n",
    "            return None\n",
    "        else:\n",
    "            return self.stack[-1]\n",
    "            \n",
    "        #Checks if the stack is empty.\n",
    "    def isEmpty(self):\n",
    "        if self.tempSize<=0:\n",
    "            print(\"stack is empty\")\n",
    "            return True\n",
    "        print(\"stack is not empty\")\n",
    "        return False\n",
    "\"\"\"\n",
    "seq=input()\n",
    "stack=Stack(len(seq))\n",
    "for i in seq:\n",
    "    if i == \"(\":\n",
    "        stack.push(\"(\")\n",
    "    else:\n",
    "        if stack.pop() is None:\n",
    "            print(\"unbalanced\")\n",
    "            break\n",
    "else:\n",
    "    if stack.isEmpty():\n",
    "        print(\"unbalanced\")\n",
    "    else:\n",
    "        print(\"balanced\")\n",
    "\"\"\"\n",
    "print()\n",
    "s=Stack()\n",
    "s.push(10)\n",
    "s.push(20)\n",
    "s.push(30)\n",
    "s.push(40)\n",
    "s.pop()\n",
    "s.pop()\n",
    "s.pop()\n",
    "s.isEmpty()\n",
    "print(s.stack)\n",
    "print(len(s))\n",
    "s.peek()"
   ]
  },
  {
   "cell_type": "code",
   "execution_count": null,
   "metadata": {},
   "outputs": [],
   "source": [
    "class Queue:\n",
    "    def __init__(self, maxSize):\n",
    "        self.queueData=[]\n",
    "        self.front=self.last=-1\n",
    "        self.maxSize=maxSize\n",
    "        \n",
    "        #add an element to the end of the queue\n",
    "    def enqueue(self, data):\n",
    "        if self.last<self.maxSize:\n",
    "            self.queueData.append(data)\n",
    "            self.last+=1\n",
    "            if self.front==-1\n",
    "                self.front=0\n",
    "                \n",
    "        #delete the element from the beginning of the queue\n",
    "    def dequeue(self):\n",
    "        \n",
    "            "
   ]
  },
  {
   "cell_type": "code",
   "execution_count": null,
   "metadata": {},
   "outputs": [],
   "source": [
    "doudts\n",
    "magic square"
   ]
  }
 ],
 "metadata": {
  "kernelspec": {
   "display_name": "Python 3",
   "language": "python",
   "name": "python3"
  },
  "language_info": {
   "codemirror_mode": {
    "name": "ipython",
    "version": 3
   },
   "file_extension": ".py",
   "mimetype": "text/x-python",
   "name": "python",
   "nbconvert_exporter": "python",
   "pygments_lexer": "ipython3",
   "version": "3.7.4"
  }
 },
 "nbformat": 4,
 "nbformat_minor": 2
}
