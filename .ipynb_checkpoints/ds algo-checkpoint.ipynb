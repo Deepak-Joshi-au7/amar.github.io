{
 "cells": [
  {
   "cell_type": "markdown",
   "metadata": {},
   "source": [
    "# Algorithm"
   ]
  },
  {
   "cell_type": "markdown",
   "metadata": {},
   "source": [
    "## Big O Notation"
   ]
  },
  {
   "cell_type": "code",
   "execution_count": null,
   "metadata": {},
   "outputs": [],
   "source": [
    "What is Big 0?\n",
    "\n",
    "Big O Notation is used to show how efficient an algorithm or function is, in relative to its input size.\n",
    "\n",
    "To measure the efficiency of an algorithm, we need to consider two things:\n",
    "\n",
    "• Time Complexity: How much time does it take to run completely?\n",
    "\n",
    "Space Complexity: How much extra space does it require in the process?\n",
    "\n",
    "Big-o captures the upper bound to show how much time or memory an algorithm would require in the worst case scenario as the input size grows.\n",
    "\n"
   ]
  },
  {
   "cell_type": "markdown",
   "metadata": {},
   "source": [
    "## Time and Space Complexity"
   ]
  },
  {
   "cell_type": "code",
   "execution_count": null,
   "metadata": {},
   "outputs": [],
   "source": [
    "Big O is expressed?\n",
    "\n",
    "Each and every function or logic or methods or class\n",
    "\n",
    "that we write falls under one of the Big O\n",
    "\n",
    "expressions listed below,\n",
    "\n",
    "     O(1)  Best\n",
    "\n",
    "    O(Log n)Better\n",
    "\n",
    "    O(n)  Normal\n",
    "\n",
    "    O(n log n)  Not Bad\n",
    "\n",
    "    O(n^2)  Bad\n",
    "\n",
    "    O(n^3)  Worst"
   ]
  },
  {
   "cell_type": "markdown",
   "metadata": {},
   "source": [
    "## Linear Search Algorithm"
   ]
  },
  {
   "cell_type": "code",
   "execution_count": 6,
   "metadata": {},
   "outputs": [
    {
     "name": "stdout",
     "output_type": "stream",
     "text": [
      "True\n",
      "\n",
      "False\n"
     ]
    }
   ],
   "source": [
    "def LinearSearch(a, key):\n",
    "    position = 0\n",
    "    flag = False\n",
    "    while position < len(a) and not flag:\n",
    "        if a [position]==key:\n",
    "            flag= True\n",
    "        else:\n",
    "            position=position+1\n",
    "    return flag\n",
    "a=[84, 21, 47, 96, 15]\n",
    "found=LinearSearch (a, 84)\n",
    "print(found)\n",
    "print()\n",
    "found=LinearSearch (a, 7)\n",
    "print(found)"
   ]
  },
  {
   "cell_type": "markdown",
   "metadata": {},
   "source": [
    "## Recursion"
   ]
  },
  {
   "cell_type": "markdown",
   "metadata": {},
   "source": [
    "It is a technique where a function or methord makes a call to itself\n",
    " ex- (i)Factorial Function-(Classical Math Function)\n",
    "     (ii)Fibonacci Series-(Sequence of No.)\n",
    "     (iii)Binary Search-(Imp Search Algo)\n",
    "#Recursive Function\n",
    "Function Recursive(input:\n",
    "   if input<=0:\n",
    "       return input\n",
    "   else:\n",
    "   output = recursive (input)\n",
    "   return output"
   ]
  },
  {
   "cell_type": "markdown",
   "metadata": {},
   "source": [
    "## Factorial"
   ]
  },
  {
   "cell_type": "code",
   "execution_count": 17,
   "metadata": {},
   "outputs": [
    {
     "name": "stdout",
     "output_type": "stream",
     "text": [
      "40320\n"
     ]
    }
   ],
   "source": [
    "def Factorial(n):\n",
    "    if n==0:\n",
    "        return 1\n",
    "    return n * Factorial (n-1)\n",
    "result = Factorial(8)    \n",
    "print(result)"
   ]
  },
  {
   "cell_type": "markdown",
   "metadata": {},
   "source": [
    "## Fibonacci"
   ]
  },
  {
   "cell_type": "code",
   "execution_count": 22,
   "metadata": {},
   "outputs": [
    {
     "name": "stdout",
     "output_type": "stream",
     "text": [
      "10\n",
      "1 1 2 3 5 8 13 21 34 55 "
     ]
    }
   ],
   "source": [
    "def Fibonacci(n):\n",
    "    if n==0:\n",
    "        return 0\n",
    "    elif n==1:\n",
    "        return 1\n",
    "    else:\n",
    "        return Fibonacci(n-1)+Fibonacci(n-2)\n",
    "n=int(input())\n",
    "for i in range(1, n+1):\n",
    "    print(Fibonacci(i), end=\" \")"
   ]
  },
  {
   "cell_type": "markdown",
   "metadata": {},
   "source": [
    "## Binary Search Algorithm (iteratively)"
   ]
  },
  {
   "cell_type": "code",
   "execution_count": 24,
   "metadata": {},
   "outputs": [
    {
     "name": "stdout",
     "output_type": "stream",
     "text": [
      "True\n"
     ]
    }
   ],
   "source": [
    "#Sorted List\n",
    "def BinarySearch(a, key):\n",
    "    low=0\n",
    "    high=len(a)-1\n",
    "    while low<=high:\n",
    "        mid = (low+high)//2\n",
    "        if key==a[mid]:\n",
    "            return True\n",
    "        elif key<a[mid]:\n",
    "            high=mid-1\n",
    "        else:\n",
    "            low=mid+1\n",
    "            return False\n",
    "a=[15, 21, 47, 84, 96]\n",
    "found=BinarySearch(a, 47)\n",
    "print(found)"
   ]
  },
  {
   "cell_type": "markdown",
   "metadata": {},
   "source": [
    "## Binary Search Algorithm (recursively)"
   ]
  },
  {
   "cell_type": "code",
   "execution_count": 50,
   "metadata": {},
   "outputs": [
    {
     "name": "stdout",
     "output_type": "stream",
     "text": [
      "84\n",
      "3\n"
     ]
    }
   ],
   "source": [
    "def BinarySearch(a, key, low, high):\n",
    "    if high >= low:\n",
    "        mid = low + (high - low)//2\n",
    "        if key==a[mid]:\n",
    "            return mid\n",
    "        elif key<a[mid]:\n",
    "            return BinarySearch(a, key, low, mid-1)\n",
    "        else:\n",
    "            return BinarySearch(a, key, mid+1, high)\n",
    "    else:\n",
    "        return \"not present\"\n",
    "a=[15, 21, 47, 84, 96]\n",
    "key=int(input())\n",
    "print(BinarySearch(a, key, 0, len(a)-1))"
   ]
  },
  {
   "cell_type": "markdown",
   "metadata": {},
   "source": [
    "## Selection Sort"
   ]
  },
  {
   "cell_type": "code",
   "execution_count": 83,
   "metadata": {
    "scrolled": true
   },
   "outputs": [
    {
     "name": "stdout",
     "output_type": "stream",
     "text": [
      "[0, 1, 2, 5, 6, 4, 9]\n"
     ]
    }
   ],
   "source": [
    "# Minimum Position\n",
    "def SelectionSort(List):\n",
    "    for i in range (len(List)):\n",
    "        MinPos=i\n",
    "        for j in range(i+1, len(List)):\n",
    "            if List [MinPos]>List[j]:\n",
    "                MinPos=j\n",
    "            List[i], List[MinPos]=List[MinPos], List[i]            \n",
    "    return List\n",
    "List=[5, 2, 1, 9, 0, 4,6]\n",
    "print(SelectionSort(List))"
   ]
  },
  {
   "cell_type": "code",
   "execution_count": 101,
   "metadata": {
    "scrolled": true
   },
   "outputs": [
    {
     "name": "stdout",
     "output_type": "stream",
     "text": [
      "[0, 1, 2, 4, 5, 6, 9]\n"
     ]
    }
   ],
   "source": [
    "# Maximum Position\n",
    "def SelectionSort(List):\n",
    "    for i in range (len(List)-1, 0, -1):\n",
    "        MaxPos=0\n",
    "        for j in range(1, i+1):\n",
    "            if List[j] > List[MaxPos]:\n",
    "                MaxPos=j\n",
    "            List[i], List[MaxPos]=List[MaxPos], List[i]\n",
    "    return List\n",
    "List=[5, 2, 1, 9, 0, 4,6]\n",
    "print(SelectionSort(List))"
   ]
  },
  {
   "cell_type": "markdown",
   "metadata": {},
   "source": [
    "## Counting Sort"
   ]
  },
  {
   "cell_type": "code",
   "execution_count": 107,
   "metadata": {},
   "outputs": [
    {
     "name": "stdout",
     "output_type": "stream",
     "text": [
      "[4]\n",
      "[4, 5]\n",
      "[4, 5, 7]\n",
      "[4, 5, 7, 7]\n",
      "[4, 5, 7, 7, 8]\n",
      "[4, 5, 7, 7, 8, 9]\n",
      "[4, 5, 7, 7, 8, 9, 13]\n",
      "[4, 5, 7, 7, 8, 9, 13, 13]\n",
      "[4, 5, 7, 7, 8, 9, 13, 13, 13]\n"
     ]
    }
   ],
   "source": [
    "L=[4, 8, 5, 7, 7, 13, 13, 13, 9]\n",
    "countOccur=[0]*(max(L)-min(L)+1)\n",
    "for i in L:\n",
    "        countOccur[i-min(L)]+=1\n",
    "        n=len(countOccur)\n",
    "        SortedArr=[]\n",
    "    #print(countOccur) to get index value\n",
    "for i in range(n):\n",
    "        for j in range(countOccur[i]):\n",
    "            SortedArr.append(i+min(L))\n",
    "            print(SortedArr)"
   ]
  },
  {
   "cell_type": "code",
   "execution_count": 93,
   "metadata": {},
   "outputs": [
    {
     "name": "stdout",
     "output_type": "stream",
     "text": [
      "Sorted Array in Ascending Order: \n",
      "[1, 2, 2, 3, 3, 4, 8]\n"
     ]
    }
   ],
   "source": [
    "# Counting sort in Python programming\n",
    "\n",
    "def countingSort(array):\n",
    "    size = len(array)\n",
    "    output = [0] * size\n",
    "    count = [0] * 10\n",
    "\n",
    "    for i in range(0, size):\n",
    "        count[array[i]] += 1\n",
    "\n",
    "    for i in range(1, 10):\n",
    "        count[i] += count[i - 1]\n",
    "\n",
    "    i = size - 1\n",
    "    while i >= 0:\n",
    "        output[count[array[i]] - 1] = array[i]\n",
    "        count[array[i]] -= 1\n",
    "        i -= 1\n",
    "\n",
    "    for i in range(0, size):\n",
    "        array[i] = output[i]\n",
    "\n",
    "\n",
    "data = [4, 2, 2, 8, 3, 3, 1]\n",
    "countingSort(data)\n",
    "print(\"Sorted Array in Ascending Order: \")\n",
    "print(data)"
   ]
  },
  {
   "cell_type": "markdown",
   "metadata": {},
   "source": [
    "## Insertion Sort"
   ]
  },
  {
   "cell_type": "code",
   "execution_count": 145,
   "metadata": {},
   "outputs": [
    {
     "name": "stdout",
     "output_type": "stream",
     "text": [
      "[15, 21, 47, 84, 96]\n"
     ]
    }
   ],
   "source": [
    "def InsertionSort(a):\n",
    "    for i in range(len(a)):\n",
    "        value=a[i]\n",
    "        pos=i-1\n",
    "        while pos>=0 and a[pos] > value:\n",
    "            a[pos]=a[pos+1]\n",
    "            pos=pos-1\n",
    "            a[pos+1]=value\n",
    "data=[15, 21, 47, 84, 96]\n",
    "found=InsertionSort(data)\n",
    "print(data)"
   ]
  },
  {
   "cell_type": "markdown",
   "metadata": {},
   "source": [
    "## Bubble Sort"
   ]
  },
  {
   "cell_type": "code",
   "execution_count": 147,
   "metadata": {},
   "outputs": [
    {
     "name": "stdout",
     "output_type": "stream",
     "text": [
      "[15, 21, 47, 74, 84, 96]\n"
     ]
    }
   ],
   "source": [
    "def BubbleSort(a):\n",
    "    for i in range (len(a)-1, 0, -1):\n",
    "        for j in range (i):\n",
    "            if a[j] > a[j+1]:\n",
    "                a[j], a[j+1]=a[j+1], a[j]\n",
    "data=[15, 21, 47, 84, 74,  96]\n",
    "found=BubbleSort(data)\n",
    "print(data)"
   ]
  },
  {
   "cell_type": "markdown",
   "metadata": {},
   "source": [
    "## Merge Sort"
   ]
  },
  {
   "cell_type": "code",
   "execution_count": 158,
   "metadata": {},
   "outputs": [
    {
     "name": "stdout",
     "output_type": "stream",
     "text": [
      "[11, 2, 5, 4, 9, 2]\n"
     ]
    }
   ],
   "source": [
    "\"\"\"\n",
    "65  31    87  24\n",
    "56  13    78  24\n",
    " 1356      2478\n",
    "    12345678\n",
    "\"\"\"\n",
    "def MergeSort(arr):\n",
    "    if len(arr) > 1:\n",
    "        mid=len(arr)//2\n",
    "        lefthalf = arr[mid:]\n",
    "        righthalf = arr[:mid]\n",
    "        \n",
    "        MergeSort(lefthalf)\n",
    "        MergeSort(righthalf)\n",
    "        i=0\n",
    "        j=0\n",
    "        k=0\n",
    "        while i < len(lefthalf) and j<len(righthalf):\n",
    "            if lefthalf[i]<righthalf[j]:\n",
    "                arr[k]=lefthalf[i]\n",
    "                i=i+1\n",
    "            else:\n",
    "                arr[k]=righthalf[j]\n",
    "                j=j+1\n",
    "                k=k+1\n",
    "        while i<len(lefthalf):\n",
    "            arr[k]=lefthalf[i]\n",
    "            i=i+1\n",
    "            k=k+1\n",
    "        while j < len(righthalf):\n",
    "            arr[k]=righthalf[j]\n",
    "            j=j+1\n",
    "            k=k+1\n",
    "arr=[11, 2, 5, 4, 9, 2]\n",
    "MergeSort(arr)\n",
    "print(arr)"
   ]
  },
  {
   "cell_type": "markdown",
   "metadata": {},
   "source": [
    "## Quick Sort"
   ]
  },
  {
   "cell_type": "code",
   "execution_count": 170,
   "metadata": {},
   "outputs": [
    {
     "name": "stdout",
     "output_type": "stream",
     "text": [
      "[15, 21, 84, 47, 96]\n"
     ]
    }
   ],
   "source": [
    "def QuickSort(a, low, high):\n",
    "    if low < high:\n",
    "        p = partition(a, low, high)\n",
    "        QuickSort(a, low, p-1)\n",
    "        QuickSort(a, p+1, high)\n",
    "        \n",
    "def partition(a, low, high):\n",
    "    i=low-1\n",
    "    pivot=a[high]\n",
    "    for j in range(low, high):\n",
    "        if a[j]<=pivot:\n",
    "            i=i+1\n",
    "        a[i], a[j]=a[j], a[i]\n",
    "        \n",
    "    a[i+1], a[high]= a[high], a[i+1]\n",
    "    return i+1\n",
    "a=[84, 21, 96, 15, 47]\n",
    "QuickSort(a, 0, len(a)-1)\n",
    "print(a)"
   ]
  },
  {
   "cell_type": "markdown",
   "metadata": {},
   "source": [
    "# Data Structure"
   ]
  },
  {
   "cell_type": "markdown",
   "metadata": {},
   "source": [
    "## Linked List & Implementation"
   ]
  },
  {
   "cell_type": "markdown",
   "metadata": {},
   "source": [
    "### Singly Linked List"
   ]
  },
  {
   "cell_type": "code",
   "execution_count": 10,
   "metadata": {},
   "outputs": [
    {
     "name": "stdout",
     "output_type": "stream",
     "text": [
      "1 2 3 4 "
     ]
    }
   ],
   "source": [
    "class Node:\n",
    "    def __init__(self, data):\n",
    "        self.data=data\n",
    "        self.next=None\n",
    "class LinkedList:\n",
    "    def __init__(self):\n",
    "        self.head=None\n",
    "        \n",
    "        # Function to insert in front\n",
    "    def push(self, new_data):\n",
    "        new_node = Node(new_data)\n",
    "        new_node.next = self.head\n",
    "        self.head = new_node\n",
    "\n",
    "        # Function to insert in front\n",
    "    def insertAfter(self, prev_node, new_data): \n",
    "        if prev_node is None: \n",
    "            print (\"The given previous node must inLinkedList.\")\n",
    "            return\n",
    "        new_node = Node(new_data) \n",
    "        new_node.next = prev_node.next\n",
    "        prev_node.next = new_node \n",
    " \n",
    "        #Function to add at the end    \n",
    "    def append(self, new_data): \n",
    "        new_node = Node(new_data)\n",
    "        if self.head is None:\n",
    "            self.head = new_node\n",
    "            return\n",
    "        last = self.head\n",
    "        while (last.next):\n",
    "            last = last.next\n",
    "        last.next = new_node\n",
    "        \n",
    "        #function to delete front\n",
    "    def deletefirst(self, key):\n",
    "        temp=self.head\n",
    "        if temp and temp.data == key:\n",
    "            self.next=temp.next\n",
    "            temp=None\n",
    "            return\n",
    "        #function to delete specific\n",
    "        prev=None\n",
    "        while temp and temp.data !=key:\n",
    "            prev=temp\n",
    "            temp=temp.next\n",
    "        if temp is None:\n",
    "            return\n",
    "\n",
    "        prev.next=temp.next\n",
    "        temp=None\n",
    "        \n",
    "    \n",
    "            \n",
    "        # Function to print\n",
    "    def PrintList(self):\n",
    "        temp=self.head\n",
    "        while(temp):\n",
    "            print(temp.data, end=\" \")\n",
    "            temp=temp.next\n",
    "            \n",
    "            \n",
    "#code to run all above\n",
    "mylist=LinkedList()\n",
    "mylist.head=Node(1)\n",
    "b=Node(2)\n",
    "c=Node(3)\n",
    "d=Node(4)\n",
    "mylist.head.next=b\n",
    "b.next=c\n",
    "c.next=d\n",
    "#mylist.push(4)\n",
    "#mylist.insertAfter(mylist.head.next, 8)\n",
    "#mylist.append(12)\n",
    "mylist.deletefirst(1)\n",
    "mylist.PrintList()"
   ]
  },
  {
   "cell_type": "markdown",
   "metadata": {},
   "source": [
    "# Create a LinkedList, and traverse through it."
   ]
  },
  {
   "cell_type": "code",
   "execution_count": 30,
   "metadata": {},
   "outputs": [
    {
     "name": "stdout",
     "output_type": "stream",
     "text": [
      "6 --> 5 --> 4 --> 3 --> None\n"
     ]
    }
   ],
   "source": [
    "\n",
    "\n",
    "class Node:\n",
    "  def __init__(self,data):\n",
    "    self.data = data\n",
    "    self.node = Node\n",
    "    self.next = None\n",
    "\n",
    "class Linkedlist:\n",
    "  def __init__(self):\n",
    "    self.head = None\n",
    "\n",
    "  def iterate(self):\n",
    "    currentNode = self.head\n",
    "    while currentNode is not None:\n",
    "      print(str(currentNode.data)+ \" --> \", end=\"\")  \n",
    "      currentNode = currentNode.next\n",
    "    print(\"None\")  \n",
    "\n",
    "l = Linkedlist() \n",
    "n1 = Node(6)\n",
    "n2 = Node(5)\n",
    "n3 = Node(4)  \n",
    "n4 = Node(3)\n",
    "\n",
    "l.head = n1\n",
    "\n",
    "n1.next = n2\n",
    "n2.next = n3\n",
    "n3.next = n4\n",
    "\n",
    "l.iterate()\n",
    "\n",
    "# print(l.head.next.data)\n",
    "\n",
    "# print(n1.node)\n",
    "# print(n2.next)\n",
    "# print(n3.node)\n",
    "# print(n4.next)"
   ]
  },
  {
   "cell_type": "markdown",
   "metadata": {},
   "source": [
    "# Reverse a Linked List"
   ]
  },
  {
   "cell_type": "code",
   "execution_count": null,
   "metadata": {},
   "outputs": [],
   "source": [
    "\n",
    "\n",
    "# Node class\n",
    "class Node:\n",
    "\n",
    "    # Init method to initialize the node object\n",
    "    def __init__(self, data):\n",
    "        self.data = data\n",
    "        self.next = None\n",
    "\n",
    "\n",
    "class LinkedList:\n",
    "\n",
    "    # Init method to initialize head\n",
    "    def __init__(self):\n",
    "        self.head = None\n",
    "\n",
    "    # Reverse method to reverse the linked list\n",
    "    def reverse(self):\n",
    "        prev = None\n",
    "        current = self.head\n",
    "        while (current is not None):\n",
    "            next = current.next\n",
    "            current.next = prev\n",
    "            prev = current\n",
    "            current = next\n",
    "        self.head = prev\n",
    "\n",
    "    # Push to insert a new node at the beginning\n",
    "    def push(self, new_data):\n",
    "        new_node = Node(new_data)\n",
    "        new_node.next = self.head\n",
    "        self.head = new_node\n",
    "\n",
    "    # Utility function to print the linked LinkedList\n",
    "    def display(self):\n",
    "        temp = self.head\n",
    "        while (temp):\n",
    "            print(temp.data)\n",
    "            temp=temp.next\n",
    "\n",
    "\n",
    "llist = LinkedList()\n",
    "llist.push(20)\n",
    "llist.push(40)\n",
    "llist.push(60)\n",
    "llist.push(80)\n",
    "\n",
    "print(\"Given Linked List\")\n",
    "llist.display()\n",
    "llist.reverse()\n",
    "print(\"\\nReversed Linked List\")\n",
    "llist.display()\n"
   ]
  },
  {
   "cell_type": "markdown",
   "metadata": {},
   "source": [
    "### Circular Linked List"
   ]
  },
  {
   "cell_type": "code",
   "execution_count": 6,
   "metadata": {},
   "outputs": [
    {
     "name": "stdout",
     "output_type": "stream",
     "text": [
      "B D "
     ]
    }
   ],
   "source": [
    "class Node:\n",
    "    def __init__(self, data):\n",
    "        self.data = data \n",
    "        self.next = None\n",
    "\n",
    "\n",
    "class CircularLinkedList:\n",
    "    def __init__(self):\n",
    "        self.head = None \n",
    "        # Function to insert in front(prepend)\n",
    "    def prepend(self, data):\n",
    "        new_node = Node(data)\n",
    "        temp = self.head \n",
    "        new_node.next = self.head\n",
    "\n",
    "        if not self.head:\n",
    "            new_node.next = new_node\n",
    "        else:\n",
    "            while temp.next != self.head:\n",
    "                temp = temp.next\n",
    "            temp.next = new_node\n",
    "        self.head = new_node\n",
    "        # Function to insert at the end(append)\n",
    "    def append(self, data):\n",
    "        if not self.head:\n",
    "            self.head = Node(data)\n",
    "            self.head.next = self.head\n",
    "        else:\n",
    "            new_node = Node(data)\n",
    "            temp = self.head\n",
    "            while temp.next != self.head:\n",
    "                temp = temp.next\n",
    "            temp.next = new_node\n",
    "            new_node.next = self.head\n",
    "        # Function to print\n",
    "    def print_list(self):\n",
    "        temp = self.head \n",
    "\n",
    "        while temp:\n",
    "            print(temp.data, end=\" \")\n",
    "            temp = temp.next\n",
    "            if temp == self.head:\n",
    "                break\n",
    "        # Function to delete\n",
    "    def remove(self, key):\n",
    "        if self.head.data == key:\n",
    "            temp = self.head \n",
    "            while temp.next != self.head:\n",
    "                temp = temp.next \n",
    "            temp.next = self.head.next\n",
    "            self.head = self.head.next\n",
    "        else:\n",
    "            temp = self.head \n",
    "            prev = None \n",
    "            while temp.next != self.head:\n",
    "                prev = temp \n",
    "                temp = temp.next\n",
    "                if temp.data == key:\n",
    "                    prev.next = temp.next \n",
    "                    temp = temp.next\n",
    "\n",
    "\n",
    "cllist = CircularLinkedList()\n",
    "cllist.append(\"A\")\n",
    "cllist.append(\"B\")\n",
    "cllist.append(\"C\")\n",
    "cllist.append(\"D\")\n",
    "\n",
    "cllist.remove(\"A\")\n",
    "cllist.remove(\"C\")\n",
    "cllist.print_list()"
   ]
  },
  {
   "cell_type": "markdown",
   "metadata": {},
   "source": [
    "### Doubly Linked List"
   ]
  },
  {
   "cell_type": "code",
   "execution_count": 14,
   "metadata": {},
   "outputs": [
    {
     "name": "stdout",
     "output_type": "stream",
     "text": [
      "5 0 1 2 5 4 "
     ]
    }
   ],
   "source": [
    "class Node:\n",
    "    def __init__(self, data):\n",
    "        self.data = data\n",
    "        self.next = None\n",
    "        self.prev = None\n",
    "\n",
    "\n",
    "class DoublyLinkedList:\n",
    "    def __init__(self):\n",
    "        self.head = None\n",
    "        # Function to insert in end(append)\n",
    "    def append(self, data):\n",
    "        if self.head is None:\n",
    "            new_node = Node(data)\n",
    "            new_node.prev = None\n",
    "            self.head = new_node\n",
    "        else:\n",
    "            new_node = Node(data)\n",
    "            temp = self.head\n",
    "            while temp.next:\n",
    "                temp = temp.next\n",
    "            temp.next = new_node\n",
    "            new_node.prev = temp\n",
    "            new_node.next = None\n",
    "        # Function to insert in front(prepend)\n",
    "    def prepend(self, data):\n",
    "        if self.head is None:\n",
    "            new_node = Node(data)\n",
    "            new_node.prev = None \n",
    "            self.head = new_node\n",
    "        else:\n",
    "            new_node = Node(data)\n",
    "            self.head.prev = new_node\n",
    "            new_node.next = self.head\n",
    "            self.head = new_node\n",
    "            new_node.prev = None\n",
    "        # Function to print\n",
    "    def print_list(self):\n",
    "        temp = self.head\n",
    "        while temp:\n",
    "            print(temp.data, end=\" \")\n",
    "            temp = temp.next\n",
    "    def add_after_node(self, key, data):\n",
    "        temp = self.head\n",
    "        while temp:\n",
    "            if temp.next is None and temp.data == key:\n",
    "                self.append(data)\n",
    "                return \n",
    "            elif temp.data == key:\n",
    "                new_node = Node(data)\n",
    "                nxt = temp.next\n",
    "                temp.next = new_node\n",
    "                new_node.next = nxt\n",
    "                new_node.prev = temp\n",
    "                nxt.prev = new_node\n",
    "            temp = temp.next\n",
    "\n",
    "    def add_before_node(self, key, data):\n",
    "        temp = self.head\n",
    "        while temp:\n",
    "            if temp.prev is None and temp.data == key:\n",
    "                self.prepend(data)\n",
    "                return\n",
    "            elif temp.data == key:\n",
    "                new_node = Node(data)\n",
    "                prev = temp.prev\n",
    "                prev.next = new_node\n",
    "                temp.prev = new_node\n",
    "                new_node.next = temp\n",
    "                new_node.prev = prev\n",
    "            temp = temp.next\n",
    "        # Function to delete\n",
    "    def delete(self, key):\n",
    "        temp = self.head\n",
    "        while temp:\n",
    "            if temp.data == key and temp == self.head:\n",
    "                # Case 1:\n",
    "                if not temp.next:\n",
    "                    temp = None \n",
    "                    self.head = None\n",
    "                    return\n",
    "\n",
    "                # Case 2:\n",
    "                else:\n",
    "                    nxt = temp.next\n",
    "                    temp.next = None \n",
    "                    nxt.prev = None\n",
    "                    temp = None\n",
    "                    self.head = nxt\n",
    "                    return \n",
    "\n",
    "            elif temp.data == key:\n",
    "                # Case 3:\n",
    "                if temp.next:\n",
    "                    nxt = temp.next \n",
    "                    prev = temp.prev\n",
    "                    prev.next = nxt\n",
    "                    nxt.prev = prev\n",
    "                    temp.next = None \n",
    "                    temp.prev = None\n",
    "                    temp = None\n",
    "                    return\n",
    "\n",
    "                # Case 4:\n",
    "                else:\n",
    "                    prev = temp.prev \n",
    "                    prev.next = None \n",
    "                    temp.prev = None \n",
    "                    temp = None \n",
    "                    return \n",
    "            temp = temp.next\n",
    "\n",
    "\n",
    "dllist = DoublyLinkedList()\n",
    "dllist.prepend(0)\n",
    "dllist.append(1)\n",
    "dllist.append(2)\n",
    "dllist.append(3)\n",
    "dllist.append(4)\n",
    "dllist.prepend(5)\n",
    "dllist.delete(3)\n",
    "dllist.add_after_node(2, 5)\n",
    "\n",
    "dllist.print_list()"
   ]
  },
  {
   "cell_type": "markdown",
   "metadata": {},
   "source": [
    "# Reverse a doubly linked list using recursion"
   ]
  },
  {
   "cell_type": "code",
   "execution_count": 6,
   "metadata": {},
   "outputs": [
    {
     "name": "stdout",
     "output_type": "stream",
     "text": [
      "Original list: 40 30 20 10 \n",
      "Reversed list: 10 20 30 40 "
     ]
    }
   ],
   "source": [
    "# Node of double Linked list\n",
    "class Node:\n",
    "\tdef __init__(self, data):\n",
    "\t\tself.data = data\n",
    "\t\tself.next = None\n",
    "\n",
    "# getnode method for new node\n",
    "def getNode(data):\n",
    "\tnew_node = Node(data)\n",
    "\tnew_node.data = data\n",
    "\tnew_node.next = new_node.prev = None\n",
    "\treturn new_node\n",
    "\n",
    "# push to insert node at the beginning of the Doubly Linked List\n",
    "def push(head_ref, new_node):\n",
    "\n",
    "\t# since we are adding at the beginning, prev is always None\n",
    "\tnew_node.prev = None\n",
    "\n",
    "\t# link the old list off the new node\n",
    "\tnew_node.next = head_ref\n",
    "\n",
    "\t# change prev of head node to new node\n",
    "\tif (head_ref != None):\n",
    "\t\thead_ref.prev = new_node\n",
    "\n",
    "\t# move the head to point to the new node\n",
    "\thead_ref = new_node\n",
    "\treturn head_ref\n",
    "\n",
    "# Reverse method to reverse a doubly linked list\n",
    "def Reverse(node):\n",
    "\n",
    "\t# If empty list, return\n",
    "\tif not node:\n",
    "\t\treturn None\n",
    "\n",
    "\t# Otherwise, swap the next and prev\n",
    "\ttemp = node.next\n",
    "\tnode.next = node.prev\n",
    "\tnode.prev = temp\n",
    "\n",
    "\t# If the prev is now None, the list has been fully reversed\n",
    "\tif not node.prev:\n",
    "\t\treturn node\n",
    "\n",
    "\t# Otherwise, keep going\n",
    "\treturn Reverse(node.prev)\n",
    "\n",
    "# Function to print nodes in a given doubly linked list\n",
    "def display(head):\n",
    "\twhile (head != None) :\n",
    "\t\tprint(head.data, end = \" \")\n",
    "\t\thead = head.next\n",
    "\n",
    "# Start with the empty list\n",
    "head = None\n",
    "\n",
    "# Create doubly linked:\n",
    "head = push(head, getNode(10))\n",
    "head = push(head, getNode(20))\n",
    "head = push(head, getNode(30))\n",
    "head = push(head, getNode(40))\n",
    "print(\"Original list: \", end = \"\")\n",
    "display(head)\n",
    "\n",
    "# Reverse doubly linked list\n",
    "head = Reverse(head)\n",
    "print(\"\\nReversed list: \", end = \"\")\n",
    "display(head)\n",
    "\n",
    "\n"
   ]
  },
  {
   "cell_type": "markdown",
   "metadata": {},
   "source": [
    "# stack"
   ]
  },
  {
   "cell_type": "code",
   "execution_count": 199,
   "metadata": {},
   "outputs": [
    {
     "name": "stdout",
     "output_type": "stream",
     "text": [
      "\n",
      "stack is not empty\n",
      "[10]\n",
      "1\n"
     ]
    },
    {
     "data": {
      "text/plain": [
       "10"
      ]
     },
     "execution_count": 199,
     "metadata": {},
     "output_type": "execute_result"
    }
   ],
   "source": [
    "class Stack:\n",
    "    def __init__(self, maxSize=100):\n",
    "        self.maxSize=maxSize\n",
    "        self.tempSize=0\n",
    "        self.stack=[]\n",
    "    \n",
    "    def __len__(self):\n",
    "        return len(self.stack)\n",
    "        \n",
    "        #to add an element to the top of the stack\n",
    "    def push(self, data):\n",
    "        if self.maxSize<=self.tempSize:\n",
    "            print(\"Stack Over Flow\")\n",
    "            return\n",
    "        self.stack.append(data)\n",
    "        self.tempSize+=1\n",
    "        #print(\"succesfully added\")\n",
    "        \n",
    "        #remove an element from the top of the stack\n",
    "    def pop(self):\n",
    "        if self.tempSize==0:\n",
    "            print(\"under Flow Error\")\n",
    "            return None\n",
    "        elem=self.stack.pop()\n",
    "        self.tempSize-=1\n",
    "        #print(\"Element poped succesfully\")\n",
    "        return elem\n",
    "    \n",
    "        #return(show) the element from the top of the list.\n",
    "    def peek(self):\n",
    "        if self.tempSize<=0:\n",
    "            return None\n",
    "        else:\n",
    "            return self.stack[-1]\n",
    "            \n",
    "        #Checks if the stack is empty.\n",
    "    def isEmpty(self):\n",
    "        if self.tempSize<=0:\n",
    "            print(\"stack is empty\")\n",
    "            return True\n",
    "        print(\"stack is not empty\")\n",
    "        return False\n",
    "\"\"\"\n",
    "seq=input()\n",
    "stack=Stack(len(seq))\n",
    "for i in seq:\n",
    "    if i == \"(\":\n",
    "        stack.push(\"(\")\n",
    "    else:\n",
    "        if stack.pop() is None:\n",
    "            print(\"unbalanced\")\n",
    "            break\n",
    "else:\n",
    "    if stack.isEmpty():\n",
    "        print(\"unbalanced\")\n",
    "    else:\n",
    "        print(\"balanced\")\n",
    "\"\"\"\n",
    "print()\n",
    "s=Stack()\n",
    "s.push(10)\n",
    "s.push(20)\n",
    "s.push(30)\n",
    "s.push(40)\n",
    "s.pop()\n",
    "s.pop()\n",
    "s.pop()\n",
    "s.isEmpty()\n",
    "print(s.stack)\n",
    "print(len(s))\n",
    "s.peek()"
   ]
  },
  {
   "cell_type": "markdown",
   "metadata": {},
   "source": [
    "# Implement Stack using a linked list.py"
   ]
  },
  {
   "cell_type": "code",
   "execution_count": 1,
   "metadata": {
    "scrolled": true
   },
   "outputs": [
    {
     "name": "stdout",
     "output_type": "stream",
     "text": [
      "40 -> 30 -> 20 -> 10 -> \n",
      "Top element is  40\n",
      "20 -> 10 -> \n",
      "Top element is  20\n"
     ]
    }
   ],
   "source": [
    "# Class to create nodes of linked list\n",
    "class Node:\n",
    "    # A init method to initialize the attributes of new node...\n",
    "    def __init__(self, data):\n",
    "        self.data = data\n",
    "        self.next = None\n",
    "\n",
    "\n",
    "class Stack:\n",
    "    # By default head is null\n",
    "    def __init__(self):\n",
    "        self.head = None\n",
    "\n",
    "    # Checks if stack is empty\n",
    "    def isempty(self):\n",
    "        if self.head == None:\n",
    "            return True\n",
    "        else:\n",
    "            return False\n",
    "\n",
    "    # Push Method to add data to the start of the stack means it would be the last one to get popped out..\n",
    "\n",
    "    def push(self, data):\n",
    "        if self.head == None:\n",
    "            self.head = Node(data)\n",
    "\n",
    "        else:\n",
    "            new_node = Node(data)\n",
    "            new_node.next = self.head\n",
    "            self.head = new_node\n",
    "\n",
    "    # Pop method to remove element that is pushed at the last.. Means last element is first one to get popped out...\n",
    "    def pop(self):\n",
    "        if self.isempty():\n",
    "            return None\n",
    "\n",
    "        else:\n",
    "            # Removes the head node and makes the preceding one the new head\n",
    "            popped_node = self.head\n",
    "            self.head = self.head.next\n",
    "            popped_node.next = None\n",
    "            return popped_node.data\n",
    "\n",
    "    # Returns the head node data\n",
    "    def peek(self):\n",
    "\n",
    "        if self.isempty():\n",
    "            return None\n",
    "\n",
    "        else:\n",
    "            return self.head.data\n",
    "\n",
    "    # Prints out the stack\n",
    "    def display(self):\n",
    "\n",
    "        iter_node = self.head\n",
    "        if self.isempty():\n",
    "            print(\"Stack Underflow\")\n",
    "\n",
    "        else:\n",
    "\n",
    "            while (iter_node != None):\n",
    "                print(iter_node.data, \"->\", end=\" \")\n",
    "                iter_node = iter_node.next\n",
    "            return\n",
    "\n",
    "\n",
    "MyStack = Stack()\n",
    "MyStack.push(10)\n",
    "MyStack.push(20)\n",
    "MyStack.push(30)\n",
    "MyStack.push(40)\n",
    "\n",
    "# Display stack elements\n",
    "MyStack.display()\n",
    "\n",
    "# Print top element of stack\n",
    "print(\"\\nTop element is \", MyStack.peek())\n",
    "\n",
    "# Delete top elements of stack\n",
    "MyStack.pop()\n",
    "MyStack.pop()\n",
    "\n",
    "# Display stack elements\n",
    "MyStack.display()\n",
    "\n",
    "# Print top element of stack\n",
    "print(\"\\nTop element is \", MyStack.peek())\n",
    "\n",
    "\n",
    "----------------------\n",
    "class Node: \n",
    "    def __init__(self,data): \n",
    "        self.data = data \n",
    "        self.next = None\n",
    "class Stack: \n",
    "    def __init__(self): \n",
    "        self.head = None\n",
    "      \n",
    "    def isempty(self): \n",
    "        if self.head == None: \n",
    "            return True\n",
    "        else: \n",
    "            return False\n",
    "      \n",
    "\n",
    "    def push(self,data): \n",
    "          \n",
    "        if self.head == None: \n",
    "            self.head=Node(data) \n",
    "              \n",
    "        else: \n",
    "            newnode = Node(data) \n",
    "            newnode.next = self.head \n",
    "            self.head = newnode \n",
    "      \n",
    "    def pop(self): \n",
    "        if self.isempty(): \n",
    "            return None\n",
    "        else: \n",
    "            elem = self.head \n",
    "            self.head = self.head.next\n",
    "            elem.next = None\n",
    "            return elem.data \n",
    "    def PrintList(self):\n",
    "        temp=self.head\n",
    "        while(temp):\n",
    "            print(temp.data, end=\" \")\n",
    "            temp=temp.next\n",
    "      \n",
    "s = Stack() \n",
    "s.push(11)  \n",
    "s.push(22) \n",
    "s.push(33) \n",
    "s.push(44)\n",
    "s.PrintList()"
   ]
  },
  {
   "cell_type": "markdown",
   "metadata": {},
   "source": [
    "# Implement stack using Queue"
   ]
  },
  {
   "cell_type": "code",
   "execution_count": 4,
   "metadata": {
    "scrolled": true
   },
   "outputs": [
    {
     "name": "stdout",
     "output_type": "stream",
     "text": [
      "current size:  3\n",
      "3\n",
      "2\n",
      "1\n",
      "current size:  1\n"
     ]
    }
   ],
   "source": [
    "\n",
    "\n",
    "from queue import Queue\n",
    "\n",
    "\n",
    "class Stack:\n",
    "\n",
    "    def __init__(self):\n",
    "\n",
    "        # Taken two inbuilt queues\n",
    "        self.q1 = Queue()\n",
    "        self.q2 = Queue()\n",
    "\n",
    "        # To maintain current number of elements\n",
    "        self.curr_size = 0\n",
    "\n",
    "    def push(self, x):\n",
    "        self.curr_size += 1\n",
    "\n",
    "        # Push x first in empty q2\n",
    "        self.q2.put(x)\n",
    "\n",
    "        # Push all the remaining elements in q1 to q2.\n",
    "        while (not self.q1.empty()):\n",
    "            self.q2.put(self.q1.queue[0])\n",
    "            self.q1.get()\n",
    "\n",
    "        # swap the names of two queues\n",
    "        self.q = self.q1\n",
    "        self.q1 = self.q2\n",
    "        self.q2 = self.q\n",
    "\n",
    "    def pop(self):\n",
    "\n",
    "        # if no elements are there in q1\n",
    "        if (self.q1.empty()):\n",
    "            return\n",
    "        self.q1.get()\n",
    "        self.curr_size -= 1\n",
    "\n",
    "    def top(self):\n",
    "        if (self.q1.empty()):\n",
    "            return -1\n",
    "        return self.q1.queue[0]\n",
    "\n",
    "    def size(self):\n",
    "        return self.curr_size\n",
    "\n",
    "\n",
    "\n",
    "\n",
    "s = Stack()\n",
    "s.push(1)\n",
    "s.push(2)\n",
    "s.push(3)\n",
    "\n",
    "print(\"current size: \", s.size())\n",
    "print(s.top())\n",
    "s.pop()\n",
    "print(s.top())\n",
    "s.pop()\n",
    "print(s.top())\n",
    "print(\"current size: \", s.size())\n"
   ]
  },
  {
   "cell_type": "markdown",
   "metadata": {},
   "source": [
    "# Queue"
   ]
  },
  {
   "cell_type": "code",
   "execution_count": 28,
   "metadata": {},
   "outputs": [
    {
     "data": {
      "text/plain": [
       "False"
      ]
     },
     "execution_count": 28,
     "metadata": {},
     "output_type": "execute_result"
    }
   ],
   "source": [
    "class Queue:\n",
    "    def __init__(self, maxSize):\n",
    "        self.queueData=[]\n",
    "        self.front=self.last=-1\n",
    "        self.maxSize=maxSize\n",
    "        \n",
    "        #add an element to the end of the queue\n",
    "    def enqueue(self, data):\n",
    "        if self.last<self.maxSize:\n",
    "            self.queueData.append(data)\n",
    "            self.last+=1\n",
    "            if self.front==-1:\n",
    "                self.front=0\n",
    "                \n",
    "        #delete the element from the beginning of the queue\n",
    "    def dequeue(self):\n",
    "        if self.front == -1:\n",
    "            return None\n",
    "        else:\n",
    "            x=self.queueData.pop(self.front)\n",
    "            #aftr popping it may become empty\n",
    "            if self.last == 0:\n",
    "                self.front=self.last=-1\n",
    "            #aftr popping it may not become empty\n",
    "            else:\n",
    "                self.rear=-1\n",
    "                return x\n",
    "            \n",
    "        #return(show) the element from the top of the list.\n",
    "    def frontElem(self):\n",
    "        if self.front != -1:\n",
    "            return self.queueData[self.front]\n",
    "        \n",
    "        #return(show) the element from the end of the list.\n",
    "    def lastElem(self):\n",
    "        if self.last != -1:\n",
    "            return self.queueData[self.last]\n",
    "        \n",
    "        #Checks if the stack is empty.\n",
    "    def isEmpty(self):\n",
    "        if self.front == -1:\n",
    "            return True\n",
    "        return False\n",
    "q=Queue(2)\n",
    "q.enqueue(10)\n",
    "q.enqueue(20)\n",
    "q.enqueue(30)\n",
    "q.enqueue(40)\n",
    "#q.dequeue()\n",
    "#q.dequeue()\n",
    "#q.dequeue()\n",
    "q.isEmpty()\n",
    "\n",
    "\n",
    "\n",
    "#print(q.queueData) # 10 20 30\n"
   ]
  },
  {
   "cell_type": "markdown",
   "metadata": {},
   "source": [
    "# Implement Queue using stack...."
   ]
  },
  {
   "cell_type": "code",
   "execution_count": 2,
   "metadata": {},
   "outputs": [
    {
     "name": "stdout",
     "output_type": "stream",
     "text": [
      "1\n",
      "2\n",
      "3\n"
     ]
    }
   ],
   "source": [
    "\n",
    "\n",
    "class Queue:\n",
    "    def __init__(self):\n",
    "        self.s1 = []\n",
    "        self.s2 = []\n",
    "\n",
    "    def enQueue(self, x):\n",
    "\n",
    "        # Move all elements from s1 to s2\n",
    "        while len(self.s1) != 0:\n",
    "            self.s2.append(self.s1[-1])\n",
    "            self.s1.pop()\n",
    "\n",
    "        # Push item into self.s1\n",
    "        self.s1.append(x)\n",
    "\n",
    "        # Push everything back to s1\n",
    "        while len(self.s2) != 0:\n",
    "            self.s1.append(self.s2[-1])\n",
    "            self.s2.pop()\n",
    "\n",
    "    # Dequeue an item from the queue\n",
    "    def deQueue(self):\n",
    "\n",
    "        # if first stack is empty\n",
    "        if len(self.s1) == 0:\n",
    "            print(\"Q is Empty\")\n",
    "\n",
    "        # Return top of self.s1\n",
    "        x = self.s1[-1]\n",
    "        self.s1.pop()\n",
    "        return x\n",
    "\n",
    "\n",
    "\n",
    "q = Queue()\n",
    "q.enQueue(1)\n",
    "q.enQueue(2)\n",
    "q.enQueue(3)\n",
    "print(q.deQueue())\n",
    "print(q.deQueue())\n",
    "print(q.deQueue())\n",
    "\n",
    "\n"
   ]
  },
  {
   "cell_type": "markdown",
   "metadata": {},
   "source": [
    "# Implement Queue using Linked List..........."
   ]
  },
  {
   "cell_type": "code",
   "execution_count": 3,
   "metadata": {},
   "outputs": [
    {
     "name": "stdout",
     "output_type": "stream",
     "text": [
      "Queue Front 15\n",
      "Queue Rear 25\n"
     ]
    }
   ],
   "source": [
    "\n",
    "\n",
    "# A Node class to create as many node objects to store queue entry...\n",
    "class Node:\n",
    "\n",
    "    def __init__(self, data):\n",
    "        self.data = data\n",
    "        self.next = None\n",
    "\n",
    "# A Queue class, front here stores the front node while rear stores the last node of linked list....\n",
    "class Queue:\n",
    "\n",
    "    def __init__(self):\n",
    "        self.front = self.rear = None\n",
    "\n",
    "    def isEmpty(self):\n",
    "        return self.front == None\n",
    "\n",
    "    # We can add items in the queue using the Enqueue method....\n",
    "    def Enqueue(self, item):\n",
    "        temp = Node(item)\n",
    "\n",
    "        if self.rear == None:\n",
    "            self.front = self.rear = temp\n",
    "            return\n",
    "        self.rear.next = temp\n",
    "        self.rear = temp\n",
    "\n",
    "    # We can remove items from the queue using the Dequeue method....\n",
    "    def Dequeue(self):\n",
    "\n",
    "        if self.isEmpty():\n",
    "            return\n",
    "        temp = self.front\n",
    "        self.front = temp.next\n",
    "\n",
    "        if (self.front == None):\n",
    "            self.rear = None\n",
    "\n",
    "\n",
    "\n",
    "\n",
    "q = Queue()\n",
    "q.Enqueue(5)\n",
    "q.Enqueue(10)\n",
    "q.Dequeue()\n",
    "q.Dequeue()\n",
    "q.Enqueue(15)\n",
    "q.Enqueue(20)\n",
    "q.Enqueue(25)\n",
    "print(\"Queue Front \" + str(q.front.data))\n",
    "print(\"Queue Rear \" + str(q.rear.data))\n"
   ]
  },
  {
   "cell_type": "markdown",
   "metadata": {},
   "source": [
    "# graph"
   ]
  },
  {
   "cell_type": "code",
   "execution_count": null,
   "metadata": {},
   "outputs": [],
   "source": [
    "Graph ADT\n",
    "\n",
    "Create(n) : create graph with n vertices and no edges \n",
    "Add(u,v) : insert and edge from u to v \n",
    "Delete(u,v) : remove an edge from u to v \n",
    "Edges() : returns number if edges\n",
    "Vertices() : returns number of vertices \n",
    "Exist(u,v): return true if edge between u and v exists\n",
    "Degree(u) : returns degree of the vertex u\n",
    "In-degree(u) : returns In-degree of the vertex u\n",
    "OutDegree(u) : returns out-degree of the vertex u"
   ]
  },
  {
   "cell_type": "code",
   "execution_count": null,
   "metadata": {},
   "outputs": [],
   "source": [
    "Vertex(Node)\n",
    "Edge - one way or two way\n",
    "        one edge oneway- directed or di graph         \n",
    "Weights (wdges can be weighted)\n",
    "G=( V , E )\n",
    "\n",
    "graph=vertices , Graph\n",
    "\n",
    "path\n",
    "v3 to v1 sequence of vertices (v3, v4, v0, v1)\n",
    "the edges {(v3,v4, 7) (v4, v0, 1) (v0, v1, 5)}\n",
    "\n",
    "Cycle It is a dirtected graph is a path that starts and ends  at the same vertex\n",
    "\n"
   ]
  },
  {
   "cell_type": "code",
   "execution_count": 2,
   "metadata": {},
   "outputs": [],
   "source": [
    "There are 2 ways to traverse a graph:\n",
    "# Depth First Search/Traversal\n",
    "# Breadth First Search/Traversal\n",
    "Adjacency List and Adjacency Matrix\n"
   ]
  },
  {
   "cell_type": "code",
   "execution_count": 16,
   "metadata": {},
   "outputs": [
    {
     "name": "stdout",
     "output_type": "stream",
     "text": [
      "['1', '2']\n"
     ]
    }
   ],
   "source": [
    "\n",
    "friends_graph = {\"0\":[\"1\",\"2\"],\"1\":[\"0\",\"2\",\"3\"],\"2\":[\"0\",\"1\",\"3\",\"5\"],\"3\":[\"1\",\"2\",\"4\"],\"4\":[\"3\"],\"5\":[\"2\"],\"6\":[\"7\"],\"7\":[\"6\"]}\n",
    "\n",
    "print(friends_graph[\"0\"])"
   ]
  },
  {
   "cell_type": "markdown",
   "metadata": {},
   "source": [
    "# Grpah only"
   ]
  },
  {
   "cell_type": "code",
   "execution_count": 24,
   "metadata": {},
   "outputs": [
    {
     "data": {
      "text/plain": [
       "defaultdict(list, {'0': ['1', '2'], '1': ['2', '3']})"
      ]
     },
     "execution_count": 24,
     "metadata": {},
     "output_type": "execute_result"
    }
   ],
   "source": [
    "from collections import defaultdict\n",
    "\n",
    "\n",
    "class Graph:\n",
    "    def __init__(self):\n",
    "        self.graph = defaultdict(list)\n",
    "        # If a key does not exist then it makes a default value of data type mentioned in the defaultdict\n",
    "      # Two - Way Relation  \n",
    "    def addEdge_U(self,ver_a,ver_b):\n",
    "        self.graph[ver_a].append(ver_b)\n",
    "        self.graph[ver_b].append(ver_a)\n",
    "      # One - Way Relation\n",
    "    def addEdge_D(self,ver_a,ver_b):\n",
    "        self.graph[ver_a].append(ver_b)\n",
    "\n",
    "  \n",
    "    def isCyclic(self):\n",
    "        pass\n",
    "g=Graph()\n",
    "g.addEdge_D(\"0\",'1')\n",
    "g.addEdge_D(\"0\",'2')\n",
    "g.addEdge_D(\"1\",'2')\n",
    "g.addEdge_D(\"1\",'3')\n",
    "\n",
    "#g.addEdge_U(\"0\",'1')\n",
    "#g.addEdge_U(\"0\",'2')\n",
    "#g.addEdge_U(\"1\",'2')\n",
    "#g.addEdge_U(\"1\",'3')\n",
    "\n",
    "# to check graph\n",
    "g.graph"
   ]
  },
  {
   "cell_type": "markdown",
   "metadata": {
    "scrolled": false
   },
   "source": [
    "# Depth First Search"
   ]
  },
  {
   "cell_type": "code",
   "execution_count": 27,
   "metadata": {},
   "outputs": [
    {
     "name": "stdout",
     "output_type": "stream",
     "text": [
      "0 1 3 4 2 5 "
     ]
    }
   ],
   "source": [
    "from collections import defaultdict\n",
    "\n",
    "\n",
    "class Graph:\n",
    "    def __init__(self):\n",
    "        self.graph = defaultdict(list)\n",
    "        # If a key does not exist then it makes a default value of data type mentioned in the defaultdict\n",
    "        \n",
    "      # Two - Way Relation  \n",
    "    def addEdge_U(self,ver_a,ver_b):\n",
    "        self.graph[ver_a].append(ver_b)\n",
    "        self.graph[ver_b].append(ver_a)\n",
    "\n",
    "        # One - Way Relation\n",
    "    def addEdge_D(self,ver_a,ver_b):\n",
    "        self.graph[ver_a].append(ver_b)\n",
    "        \n",
    "        #depth first search\n",
    "    def dfs_rec(self,start):\n",
    "        # For every vertex you visit mark it as visited\n",
    "        self.visited[start] = True\n",
    "        # print that vertex\n",
    "        print(start, end=\" \")\n",
    "        # now go its list of neighbours. self.graph[start] is all the neighbours of start.\n",
    "        for i in self.graph[start]:\n",
    "          # Waiting for the first unvisited neighbour\n",
    "          if self.visited[i] == False:\n",
    "            self.dfs_rec(i)\n",
    "            # Exhaust all the possibilities for that neighbour.\n",
    "\n",
    "    def dfs_runner(self,start):\n",
    "        # Size of visited array is same as the number of vertices because each vertex has to be marked visited/unvisited\n",
    "        self.visited = [False]*len(self.graph)\n",
    "        # We have asked the user from which vertex to begin traversal.\n",
    "        # Initially all vertices are unvisited\n",
    "        # Now begin the traversal\n",
    "        self.dfs_rec(start)\n",
    "        \n",
    "g=Graph()\n",
    "#g.addEdge_D(\"0\",'1')\n",
    "#g.addEdge_D(\"0\",'2')\n",
    "#g.addEdge_D(\"1\",'2')\n",
    "#g.addEdge_D(\"1\",'3')\n",
    "\n",
    "g.addEdge_U(0,1)\n",
    "g.addEdge_U(0,2)\n",
    "g.addEdge_U(1,3)\n",
    "g.addEdge_U(1,4)\n",
    "g.addEdge_U(2,4)\n",
    "g.addEdge_U(3,4)\n",
    "g.addEdge_U(3,5)\n",
    "g.addEdge_U(4,5)\n",
    "\n",
    "g.dfs_runner(0)\n"
   ]
  },
  {
   "cell_type": "markdown",
   "metadata": {},
   "source": [
    "# Depth First Search Allphabet"
   ]
  },
  {
   "cell_type": "code",
   "execution_count": 47,
   "metadata": {},
   "outputs": [
    {
     "name": "stdout",
     "output_type": "stream",
     "text": [
      "A B D E C F "
     ]
    },
    {
     "data": {
      "text/plain": [
       "defaultdict(list,\n",
       "            {'A': ['B', 'C'],\n",
       "             'B': ['A', 'D', 'E'],\n",
       "             'C': ['A', 'E'],\n",
       "             'D': ['B', 'E'],\n",
       "             'E': ['B', 'C', 'D', 'F'],\n",
       "             'F': ['E']})"
      ]
     },
     "execution_count": 47,
     "metadata": {},
     "output_type": "execute_result"
    }
   ],
   "source": [
    "from collections import defaultdict\n",
    "\n",
    "\n",
    "class Graph:\n",
    "    def __init__(self):\n",
    "        self.graph = defaultdict(list)\n",
    "        \n",
    "\n",
    "    def addEdge_U(self,ver_a,ver_b):\n",
    "        self.graph[ver_a].append(ver_b)\n",
    "        self.graph[ver_b].append(ver_a)\n",
    "\n",
    "\n",
    "    def addEdge_D(self,ver_a,ver_b):\n",
    "        self.graph[ver_a].append(ver_b)\n",
    "\n",
    "    def dfs_rec(self,start):\n",
    "        self.visited[ord(start)-65] = True\n",
    "        print(start, end=\" \")\n",
    "        for i in self.graph[start]:\n",
    "              if self.visited[ord(i)-65] == False:\n",
    "                self.dfs_rec(i)\n",
    "\n",
    "    def dfs_runner(self,start):\n",
    "        self.visited = [False]*len(self.graph)\n",
    "        self.dfs_rec(start)\n",
    "\n",
    "        \n",
    "g=Graph()\n",
    "\n",
    "g.addEdge_U(\"A\",\"B\")\n",
    "g.addEdge_U(\"A\",\"C\")\n",
    "g.addEdge_U(\"B\",\"D\")\n",
    "g.addEdge_U(\"B\",\"E\")\n",
    "g.addEdge_U(\"C\",\"E\")\n",
    "g.addEdge_U(\"D\",\"E\")\n",
    "g.addEdge_U(\"E\",\"F\")\n",
    "\n",
    "\n",
    "g.dfs_runner(\"A\")\n",
    "\n",
    "g.graph"
   ]
  },
  {
   "cell_type": "code",
   "execution_count": null,
   "metadata": {},
   "outputs": [],
   "source": []
  },
  {
   "cell_type": "code",
   "execution_count": null,
   "metadata": {},
   "outputs": [],
   "source": []
  },
  {
   "cell_type": "code",
   "execution_count": null,
   "metadata": {},
   "outputs": [],
   "source": []
  },
  {
   "cell_type": "code",
   "execution_count": null,
   "metadata": {},
   "outputs": [],
   "source": []
  },
  {
   "cell_type": "code",
   "execution_count": null,
   "metadata": {},
   "outputs": [],
   "source": []
  },
  {
   "cell_type": "markdown",
   "metadata": {},
   "source": [
    "# System Design"
   ]
  },
  {
   "cell_type": "markdown",
   "metadata": {},
   "source": [
    "## Step 1 — Understand the Goals\n",
    "## Step 2 — Establish the Scope\n",
    "## Step 3 — Design for the Right Scale\n",
    "## Step 4 — Start High-Level, then Drill-Down\n",
    "## Step 5 — Data Structures and Algorithms (DS&A)\n",
    "## Step 6 — Tradeoffs(CAP theorem)"
   ]
  },
  {
   "cell_type": "code",
   "execution_count": null,
   "metadata": {},
   "outputs": [],
   "source": [
    "Week 6\n",
    "Day 4\n",
    "\n",
    "Design a TinyURL/url shortner?\n",
    "\n",
    "1) Shorten your URL. \n",
    "\n",
    "2) Any URL on the web you can shorten and log the statistics.\n",
    "\n",
    "3) If you know an average of 10k users/hour are going to use my website. Then design it accordingly. Most of information is vv short text between website and user.\n",
    "\n",
    "If 100 users are only going to use then design accordingly.\n",
    "\n",
    "4) highest level is the entire website is one page -> \n",
    "signup/login -> connect that with the database. \n",
    "url shortening server -> feed input and gain the output.\n",
    "user profile -> where I store all your shortened urls with usage statistics.\n",
    "Share URL\n",
    "\n",
    "5) Shortening algorithm: Mathematical function(Hashing function). Manage Collisions. Ensure a high degree of uniqueness. Request to see if the URL is valid. If the site is not malicious.\n",
    "\n",
    "Limit Usage: Link Payment Gateway for pro version.\n",
    "\n",
    "Signup/Login Algorithm: Validate Credentials. Session variables to uniquely identify a login.\n",
    "\n",
    "6) Tradeoffs\n",
    "\n",
    "Consistency(will it overload and destroy my database) & Availabilty/Concurrency(1000 people are using tinyurl at the same time),\n",
    "\n",
    "Scalability & Modularity/Maintainability (Serverless Computing)(on-demand)"
   ]
  },
  {
   "cell_type": "code",
   "execution_count": null,
   "metadata": {},
   "outputs": [],
   "source": [
    "Day 5\n",
    "\n",
    "SYSTEM DESIGN\n",
    "\n",
    "Youtube\n",
    "\n",
    "1) Goal of your product: indexing and hosting all videos. Video Streaming.\n",
    "\n",
    "2) Scope of your system: Streamers/Content Creators, Viewers, Avertisers all of them will use your system either to post or watch videos.\n",
    "\n",
    "3) Design for the right scalability: We have to build for 10^9 people. We are taking and giving video content primarily. What is the average data i/o from our server? What kind of file system to use on our server to make the video transfer faster? Multi-processing by analyzing the traffic. Whatever code youtube devs push here has to work and deployed without altering user experience?\n",
    "\n",
    "4) High level features and drill down to low level features:\n",
    "\n",
    "watch a video\n",
    "post a video\n",
    "comment on a video/live stream\n",
    "reply/like a comment on a video/live stream\n",
    "like a video\n",
    "subscribe a channel\n",
    "share a video -> trending based on geography & recommendation\n",
    "searching for videos\n",
    "create a channel\n",
    "delete a channel\n",
    "edit your profile\n",
    "live stream\n",
    "create a playlist\n",
    "watch later\n",
    "download(premium feature)\n",
    "\n",
    "5) Key Algorithms:\n",
    "\n",
    "geo-optimization algorithm(ip_address): youtube is deployed on multiple servers across the globe and when you open youtube, it should point to the server that is geographically closest to you. \n",
    "load balancing algorithm/ auto-scaling algorithm\n",
    "video streaming algorithm(video_id,video_file, video_options)\n",
    "compression algorithm(video_file)\n",
    "buffering algorithm(video_id)\n",
    "recommendation algorithm(view history, search history)\n",
    "appropriate ad algorithm(view history, search history)\n",
    "searching algorithm(query, ip, video, recent/relevance)\n",
    "\n",
    "\n",
    "6) Tradeoffs:\n",
    "Quality vs Loading Time (Major Tradeoff)\n",
    "Scalability vs Maintainability (How modular your code and deployment procedures are)?\n",
    "Consistency vs Concurrency (My databases should not be corrupted but still allow 10^6 people to access at once on average).\n",
    "\n",
    "Extra Questions\n",
    "\n",
    "1) How would you record stats about videos e.g the total number of views, up-votes/down-votes, etc.\n",
    "2) How would a user add comments on videos (in realtime)."
   ]
  },
  {
   "cell_type": "code",
   "execution_count": null,
   "metadata": {},
   "outputs": [],
   "source": [
    "Week 7 \n",
    "Day 2\n",
    "\n",
    "Whatsapp/Messenger/Hangouts\n",
    "\n",
    "1) goal(what is the aim of the product)\n",
    "\n",
    "text/voice communication\n",
    "\n",
    "2) scope(use cases)\n",
    "\n",
    "mobile phone users who have internet connections and a mobile number.\n",
    "\n",
    "3) scalability(how quickly can you support your maximum usage)\n",
    "\n",
    "On-demand, database sharding(scaling horizontally), event triggered / serverless (server only runs when user performs an action, else it remain dormant), offline storage, load balancing, geo-optimization(edge optimization).\n",
    "\n",
    "\n",
    "4) Key feature: coarse to refined\n",
    "\n",
    "\n",
    "1-1 Chats: text, image, document, video, location, contact and voice(audio clip). Block a person. Reply. Forward.Delete for me/everyone. Star. Blue ticks. Report\n",
    "\n",
    "Gp chats: text, image, document, video, location, contact and voice(audio clip). Tag people. Add/remove members and make/remove admin. Reply. Forward. Leave a gp. mute a gp.\n",
    "Delete for me/everyone. Star. Blue ticks. Gp name.desc. pinned messages. Report\n",
    "\n",
    "Gp calls (video/voice only): Call multiple people simultaneously. \n",
    "\n",
    "1-1 calls (video/voice only): Call one person at a time. \n",
    "\n",
    "status: choose recipients. 1+ statuses. all multimedia. 24h duration. delete status. See viewers. read status of other people. Share status. Mute status. Reply to status.\n",
    "\n",
    "inbuilt camera: draw over it with a pen. no filters. edit image. camera functionality.\n",
    "\n",
    "push notification:  show additional messages. mark as read and it has reply. missed call/unread message. on/off.\n",
    "\n",
    "Login/Signup: whatsapp web QR code. Phone sms/call based otp verification.\n",
    "\n",
    "Backup: backup settings.\n",
    "\n",
    "5) Key Algorithms\n",
    "\n",
    "encryption(end-to-end algorithm): SHA-256, md5, AES , RSA based algorithms, DES\n",
    "\n",
    "message queue: because the volume of messages is very high and we need to handle this.\n",
    "\n",
    "search algorithm\n",
    "\n",
    "compression\n",
    "\n",
    "chat algorithm\n",
    "\n",
    "call session maintenance algorithm\n",
    "\n",
    "\n",
    "6) Trade offs\n",
    "\n",
    "Scalability vs Maintability\n",
    "\n",
    "\n",
    "Brownie Points:\n",
    "\n",
    "1) how will you design the call part?\n",
    "2) limitations and everything else about group chat?\n",
    "3) When to send push notification?\n",
    "4) When the recipient is not connected to internet how to handle the situation?\n",
    "\n",
    "1) Activity Diagram\n",
    "2) "
   ]
  },
  {
   "cell_type": "code",
   "execution_count": null,
   "metadata": {},
   "outputs": [],
   "source": [
    "Week 7\n",
    "Day 5\n",
    "# Quora\n",
    "1) Product Goal\n",
    "\n",
    "Make a Q&A/Discussion forum\n",
    "\n",
    "2) Usage Scope\n",
    "\n",
    "People who seek answers to subjective questions\n",
    "\n",
    "3) Scalability(website/app)\n",
    "\n",
    "Cloud(on-demand scalability). Serverless(on-usage infrastructure). Event Driven (Should run the serverless code only when explicitly asked for by the user). Reduce number of requests on main server using caching/offline content.\n",
    "\n",
    "4) Features\n",
    "Tags\n",
    "Quora Blog\n",
    "Chat\n",
    "Questions - CreateReadUpdateDelete\n",
    "Answers(text, image, video, gif) - CreateReadUpdateDelete\n",
    "Comments - CreateReadUpdateDelete\n",
    "upvote/downvote/bookmark an answer\n",
    "Quora Feed\n",
    "Question recommendation\n",
    "Searching Questions\n",
    "A2A - Request an answer\n",
    "User profile\n",
    "Users should be able to follow topics/other users\n",
    "\n",
    "\n",
    "5) Key Algorithms + DB Schema\n",
    "\n",
    "Linking questions with topics\n",
    "Search algorithm\n",
    "Question Recommendation(imp)\n",
    "Feed Generation(imp)\n",
    "Profile Analysis\n",
    "Automatic Content Flagging/Moderation(imp)\n",
    "Automatic Tag Addition\n",
    "\n",
    "\n",
    "6) Tradeoffs (while designing my platform what choices I had and which one I chose and why)\n",
    "\n",
    "Maintability vs Time-to-market (of code structure)\n",
    "Availability vs Concurrency (of DB)\n",
    "Quantity vs Quality (of answers)\n",
    "speed vs security (of platform)\n",
    "\n",
    "HW - Go through github/gitlab and make a 15 min recording explaining reddit along these lines."
   ]
  },
  {
   "cell_type": "code",
   "execution_count": null,
   "metadata": {},
   "outputs": [],
   "source": [
    "Weeek 8\n",
    "Day 1\n",
    "# Github/Gitlab/ Any Version Control System\n",
    "\n",
    "\n",
    "# Goal(What is user's goal while using it?) - Team collaboration and version control\n",
    "\n",
    "# Scope(What is your goal while building it?) - determining and documenting a list of specific system design goals, deliverables and tasks performed by it.\n",
    "\n",
    "# Features - Repositories, Gists, Project Boards, Version Control, Profile, Organizations, Actions and so on. All of these have CRUD minimum.\n",
    "\n",
    "# Scalability - https://docs.gitlab.com/ee/install/aws/\n",
    "\n",
    "# Key Algorithms - Version Control, Search\n",
    "\n",
    "# Tradeoffs - \n",
    "# Maintainability vs Cohesiveness\n",
    "# Availability vs Concurrency\n",
    "# Security vs Speed\n",
    "# Feature-Intensiveness vs Ease of use"
   ]
  },
  {
   "cell_type": "code",
   "execution_count": 65,
   "metadata": {},
   "outputs": [
    {
     "ename": "SyntaxError",
     "evalue": "invalid syntax (<ipython-input-65-96fcd24f0ff7>, line 1)",
     "output_type": "error",
     "traceback": [
      "\u001b[0;36m  File \u001b[0;32m\"<ipython-input-65-96fcd24f0ff7>\"\u001b[0;36m, line \u001b[0;32m1\u001b[0m\n\u001b[0;31m    week 8 day 4\u001b[0m\n\u001b[0m         ^\u001b[0m\n\u001b[0;31mSyntaxError\u001b[0m\u001b[0;31m:\u001b[0m invalid syntax\n"
     ]
    }
   ],
   "source": [
    "week 8 day 4\n",
    "# Google Drive/ Dropbox- System Design\n",
    "\"\"\"\n",
    "\n",
    "Goal - Single Cloud Storage that allows read/write from multiple sources via a web/mobile platform.\n",
    "\n",
    "Scope - Single File System on the cloud accessible via HTTP.\n",
    "\n",
    "Scalability - What to Scale?(storage and access) When to scale? (user's storage capacity reaches limit, server's request capacity(r/w) limit)\n",
    "How to scale?\n",
    "\n",
    "https://techcrunch.com/2013/07/11/how-did-dropbox-scale-to-175m-users-a-former-engineer-details-the-early-days/\n",
    "\n",
    "Features:\n",
    "\n",
    "Folders - CRUD\n",
    "Files - CRUD\n",
    "Sharing - CRUD\n",
    "Collab editing - Brownie Points\n",
    "Sync Device\n",
    "App(PC/Mobile) - Offline files\n",
    "Backup Feature - Offline/ Online\n",
    "\n",
    "Key Algorithms:\n",
    "\n",
    "Partitioning Algo+Geo-optimization - Brownie\n",
    "Permission Algorithm - imp\n",
    "Database Scaling Algorithm - imp\n",
    "Hot-cold Algorithm - Brownie\n",
    "Version control\n",
    "\n",
    "Backend Development: Add some more points (DB Schema+APIs)\n",
    "\n",
    "Tradeoffs:\n",
    "Mapping Duplicates vs User Privacy\n",
    "Availability vs Storage\n",
    "\n",
    "\"\"\""
   ]
  },
  {
   "cell_type": "markdown",
   "metadata": {},
   "source": [
    "# Dynamic Programing"
   ]
  },
  {
   "cell_type": "code",
   "execution_count": null,
   "metadata": {},
   "outputs": [],
   "source": [
    "doudts\n",
    "magic square"
   ]
  }
 ],
 "metadata": {
  "kernelspec": {
   "display_name": "Python 3",
   "language": "python",
   "name": "python3"
  },
  "language_info": {
   "codemirror_mode": {
    "name": "ipython",
    "version": 3
   },
   "file_extension": ".py",
   "mimetype": "text/x-python",
   "name": "python",
   "nbconvert_exporter": "python",
   "pygments_lexer": "ipython3",
   "version": "3.7.4"
  }
 },
 "nbformat": 4,
 "nbformat_minor": 2
}
